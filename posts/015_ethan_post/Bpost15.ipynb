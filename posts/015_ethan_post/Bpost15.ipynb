{
 "cells": [
  {
   "cell_type": "raw",
   "id": "5794f280-18d0-44cc-96f3-e59c0fb59b2b",
   "metadata": {},
   "source": [
    "---\n",
    "title: \"Exploring with Sora.\"\n",
    "execute:\n",
    "  echo: false\n",
    "description: \"Two platforms debate and then ask each platform to give an objective answer on who won\"\n",
    "  \n",
    "author: \"Ethan Roytman\"\n",
    "date: \"3/21/2025\"\n",
    "categories:\n",
    "  - LLMs\n",
    "  - Memory Recall\n",
    "  - AI Reasoning\n",
    "---"
   ]
  },
  {
   "cell_type": "markdown",
   "id": "f291cb11-4e47-4cde-ad1c-ee8bd9755af1",
   "metadata": {},
   "source": [
    "# Introduction\n",
    "\n",
    "Recently, I have been getting a lot of AI generated videos on my for you page. After further investgiation I realized that they were made with Open AI's Sora. Sora is a model that can generate full-on videos from text prompts that is said to be capable of rendering actual scenes with motion, lighting, and camera movement. I wanted to see if Sora could live up to the hype. Could it not only interpret a prompt creatively, but visually deliver on that idea in a coherent way?\n",
    "\n",
    "So I ran two tests:\n",
    "\n",
    "Prompting Sora to generate a short, surreal video\n",
    "\n",
    "Prompting it to create a cinematic-style clip with specific visual details and motion\n",
    "\n",
    "I will upload the results of both tests below. Given the format of the document, I will include an image of the video and a description of what happens since I can't embed videos."
   ]
  },
  {
   "cell_type": "markdown",
   "id": "f4890d15-872e-4476-9ba1-64cb9f5bbeaf",
   "metadata": {},
   "source": [
    "## Test 1: Surreal Prompt — “A cat made of clouds walking on piano keys in the sky”\n",
    "\n",
    "**Prompt I submitted:** “Generate a video of a fluffy white cat made of clouds walking across giant piano keys suspended in the sky. The scene is dreamlike and uses soft lighting. The camera slowly tracks the cat from behind.”*\n",
    "\n",
    "**What Sora produced:**\n",
    "\n",
    "<img src=\"cat.png\" width=\"50%\"/>\n",
    "\n",
    "The output matched the prompt fairly closely. It showed a white, cloud-like cat walking forward across oversized piano keys that stretch into the clouds. The background was a soft, bright sky with puffy clouds in the distance. The cat didn’t do much beyond walking forward — it moved a little clumsily but stayed upright. The video resembled the image above, just with the cat shifting slightly and moving one step at a time. The camera followed from behind at a steady pace, and the lighting stayed soft and consistent throughout.\n",
    "\n",
    "**Analysis:**\n",
    "This video felt more like a simple animated loop than a cinematic scene, but it delivered on what was asked. The cat had a light, fluffy texture that matched the “cloud” description, and the piano keys were rendered at scale with clean lines and consistent shading. The surreal quality came more from the concept than the execution — nothing wild or glitchy happened, and the cat just kept walking. The realism wasn’t photorealistic, but the visuals were clear and coherent. Overall, it showed that Sora can handle light creative prompts like this with solid output, even if the result is more like a moving concept sketch than a polished short film."
   ]
  },
  {
   "cell_type": "markdown",
   "id": "8c65fe12-2f78-4833-8e64-033878282b20",
   "metadata": {},
   "source": [
    "## Test 2: Urban Prompt — “Drone footage of Tokyo at night with glowing neon signs”\n",
    "\n",
    "**Prompt I submitted:** “Create realistic drone footage of Tokyo at night. Show tall buildings, neon signs in Japanese, light reflections on wet streets, and cars moving through intersections. The camera should move smoothly between buildings like a drone fly-through.”*\n",
    "\n",
    "**What Sora generated:**\n",
    "\n",
    "<img src=\"Tokyo.png\" width=\"50%\"/>\n",
    "\n",
    "The output was a short video clip nearly identical to the image above — a quiet Tokyo street at night, viewed from above. Neon signs in Japanese lit up both sides of the street, casting reflections onto the wet pavement. The buildings were tall and dimly lit with interior office lights. Cars moved slowly through the scene, and the drone-style camera stayed steady as it tracked forward. The lighting was soft but detailed, capturing the subtle glows and reflections you’d expect from a rainy night in the city.\n",
    "\n",
    "**Analysis:**\n",
    "Sora handled this prompt well. The video wasn’t overly stylized or cinematic — it felt more like a calm, slightly moody cityscape. The buildings, signage, and lighting all looked accurate and proportional, and the reflections on the street were consistent with the wet ground. The cars moving through the intersection were smooth and natural. While the signs themselves weren’t animated, the overall realism of the scene, especially in terms of light, motion, and composition, showed that Sora can produce convincing short clips with minimal surrealism. It worked especially well for this kind of urban, ambient content."
   ]
  },
  {
   "cell_type": "markdown",
   "id": "e82098c4-65a4-4958-ab8d-9e4ae59b2d82",
   "metadata": {},
   "source": [
    "# Conclusion\n",
    "\n",
    "Sora delivers on prompt-driven video generation with a clear sense of style and structure, though the results lean more toward simple animated concept pieces than full cinematic sequences. In both tests, the outputs were visually coherent and accurately followed the prompt: the Tokyo night scene recreated a realistic urban environment with moving cars and consistent lighting, while the cloud-cat video translated a surreal idea into a calm, low-action loop with soft textures and steady camera work. While neither video included complex motion or advanced storytelling, both were polished enough to be useful for moodboarding, concept visualization, or experimental creative projects. Sora doesn’t yet produce highly dynamic or interactive content, but as a tool for generating short, aesthetic visual clips from text, it’s already a strong and usable starting point."
   ]
  }
 ],
 "metadata": {
  "citation-manager": {
   "items": {}
  },
  "kernelspec": {
   "display_name": "Python 3 (ipykernel)",
   "language": "python",
   "name": "python3"
  },
  "language_info": {
   "codemirror_mode": {
    "name": "ipython",
    "version": 3
   },
   "file_extension": ".py",
   "mimetype": "text/x-python",
   "name": "python",
   "nbconvert_exporter": "python",
   "pygments_lexer": "ipython3",
   "version": "3.10.12"
  }
 },
 "nbformat": 4,
 "nbformat_minor": 5
}
