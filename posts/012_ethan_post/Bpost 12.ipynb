{
 "cells": [
  {
   "cell_type": "raw",
   "id": "a5831a6b-5ad6-4f31-8738-e32876c71bb2",
   "metadata": {},
   "source": [
    "---\n",
    "title: \"Chat GPT and Age Verification\"\n",
    "execute:\n",
    "  echo: false\n",
    "description: \"Two platforms debate and then ask each platform to give an objective answer on who won\"\n",
    "  \n",
    "author: \"Ethan Roytman\"\n",
    "date: \"3/11/2025\"\n",
    "categories:\n",
    "  - LLMs\n",
    "  - Memory Recall\n",
    "  - AI Reasoning\n",
    "---"
   ]
  }
 ],
 "metadata": {
  "citation-manager": {
   "items": {}
  },
  "kernelspec": {
   "display_name": "Python 3 (ipykernel)",
   "language": "python",
   "name": "python3"
  },
  "language_info": {
   "codemirror_mode": {
    "name": "ipython",
    "version": 3
   },
   "file_extension": ".py",
   "mimetype": "text/x-python",
   "name": "python",
   "nbconvert_exporter": "python",
   "pygments_lexer": "ipython3",
   "version": "3.10.12"
  }
 },
 "nbformat": 4,
 "nbformat_minor": 5
}
