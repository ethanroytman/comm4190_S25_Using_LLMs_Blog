{
 "cells": [
  {
   "cell_type": "raw",
   "id": "b590a774-8392-4266-83a3-bbe099f1ea17",
   "metadata": {},
   "source": [
    "---\n",
    "title: \"Can ChatGPT Get me to class?\"\n",
    "execute:\n",
    "  echo: false\n",
    "description: \"This post examines the ability of large language models to analyze geographic locations, describe their surroundings, and interpret spatial relationships.\"\n",
    "  \n",
    "author: \"Ethan Roytman\"\n",
    "date: \"2/13/2025\"\n",
    "categories:\n",
    "  - LLMs\n",
    "  - geography\n",
    "  - AI reasoning\n",
    "  - spatial analysis\n",
    "---"
   ]
  },
  {
   "cell_type": "markdown",
   "id": "c8d838e0-ee56-4a84-ac1a-84a97414e644",
   "metadata": {},
   "source": [
    " ## Introduction  \n",
    "In our last in-class assignment I mentioned the Upenn campus and independently chatGPT mentioned biking down Walnut Street. This made me curious about how well Chatgpt can actually evaluate geographic contexts. In this post I will conduct a series of experiments by providing various locations and evaluating the model’s responses on different geographic aspects. This analysis will help us understand the strengths and limitations of LLMs in geographic reasoning and potential use cases for real-world applications. \n"
   ]
  },
  {
   "cell_type": "markdown",
   "id": "e937512b-be09-4860-bcfe-286d85a489d6",
   "metadata": {},
   "source": [
    "## **Penn Campus Ball Knowledge**\n",
    "\n",
    "First we are going to test for basic knowledge, then will ask increasingly more specific and context-based questions. We will start this experiment with its origin: Upenn Campus.\n",
    "\n",
    "I first asked **\"What are the major landmarks located around Upenn's Campus\"**\n",
    "\n",
    "Chatgpt gave a surprisingly contextualized answer. The response was:\n",
    "\n",
    "\"The University of Pennsylvania (Penn) is located in the heart of Philadelphia’s University City neighborhood, and it is surrounded by several major landmarks. Here are some of the most notable ones:\n",
    "\n",
    "### **On or Adjacent to Penn's Campus**\n",
    "1. **Locust Walk** – A pedestrian pathway that runs through the heart of Penn’s campus, lined with historic buildings and student activity hubs.\n",
    "2. **Fisher Fine Arts Library** – A striking red brick and terracotta building designed by Frank Furness, one of the most beautiful libraries on campus.\n",
    "3. **The Quad (University of Pennsylvania College Houses)** – A historic dormitory complex that houses many first-year students.\n",
    "4. **Penn Museum (University of Pennsylvania Museum of Archaeology and Anthropology)** – One of the world's most renowned archaeology and anthropology museums, featuring collections from ancient Egypt, Mesopotamia, and more.\n",
    "5. **The Palestra** – A historic basketball arena known as the \"Cathedral of College Basketball.\"\n",
    "6. **Franklin Field** – The nation's oldest operating football stadium, home to Penn’s football team and the Penn Relays.\n",
    "7. **Van Pelt Library** – Penn’s central library, offering extensive research resources.\n",
    "8. **Irvine Auditorium** – A historic venue for performances, lectures, and events, featuring stunning stained-glass windows.\n",
    "9. **Singh Center for Nanotechnology** – A state-of-the-art research facility with unique modern architecture.\n",
    "10. **Perelman Center for Advanced Medicine** – A top medical research and treatment facility affiliated with Penn Medicine.\n",
    "\n",
    "### **Nearby Landmarks in University City**\n",
    "11. **30th Street Station** – A major Amtrak and regional rail hub, just a short walk from campus.\n",
    "12. **Cira Centre & Cira Green** – A rooftop park with great views of the city skyline, located near 30th Street Station.\n",
    "13. **Schuylkill River Trail** – A scenic walking, running, and biking trail along the Schuylkill River.\n",
    "14. **The Philadelphia Museum of Art & Rocky Steps** – Located a short distance away along the Benjamin Franklin Parkway.\n",
    "15. **Drexel University** – Penn's neighboring university, located just to the north of campus.\n",
    "\n",
    "Would you like recommendations on things to see or do around campus?\"\n",
    "\n",
    "I was pleasantly surprised by this answer, however, I think its level of knowledge is still less than a Upenn student's. Specifically, if I were to ask a Penn student for landmarks around campus they probably wouldn't mention \"The Palestra\" and \"Singh Center for Nanotechnology\" nor would they mention any dorms/lecture halls. They would maybe mention something that is more intrinsic to Penn culture like Ben Frank. Also for nearby landmarks, I doubt a Penn student would say Drexel or 30th Street Station and maybe would answer Rittenhouse Square. Because of this, I am going to follow up and ask the following question:\n",
    "\n",
    "**Now answer in the context of a Upenn student, what would you describe as 5 community staples of Penn Campus.**\n",
    "\n",
    "Chatgpt answered with the following:\n",
    "\n",
    "\"As a Penn student, five community staples on campus that define the Penn experience would be:\n",
    "\n",
    "1. **Locust Walk** – The heart of campus life, where students pass through daily to get to class, stop by club tables, or run into friends. During events like Spring Fling and Hey Day, it transforms into a hub of celebration.\n",
    "\n",
    "2. **Houston Hall** – The country’s first student union and a go-to spot for students to grab food, study, or meet up with friends. It houses several dining options, study spaces, and is home to many student organization meetings.\n",
    "\n",
    "3. **The Quad (University of Pennsylvania College Houses)** – A defining first-year experience. Living in the Quad is almost a rite of passage, and the iconic red-brick buildings and central green spaces make it a central community hub for freshmen.\n",
    "\n",
    "4. **Van Pelt Library** – The ultimate study spot with a space for every type of student, from the bustling first floor to the silence of the sixth. Students often joke about “living” here during finals season.\n",
    "\n",
    "5. **Wawa (38th & Spruce)** – More than just a convenience store, this Wawa is a beloved late-night food stop for Penn students. Whether it's post-party hoagies, a quick coffee before class, or a mid-study snack run, this location is a true campus staple.\n",
    "\n",
    "Each of these places holds a special significance in student life, creating shared experiences that define the Penn community. Would you like recommendations for more niche or lesser-known spots?\"\n",
    "\n",
    "With this \"Penn student\" directive language, Chatgpt actually gave a really good answer. All of the locations that it mentioned are\n",
    "trademarks of the Upenn experience - particularly the iconic freshmen one. On top of that, I think knowing Quadwa is a nice cherry on top. \n"
   ]
  },
  {
   "cell_type": "markdown",
   "id": "a07657ac-5071-438c-b272-d930d1ac5773",
   "metadata": {},
   "source": [
    "## **WHERE DO I GO???**\n",
    "\n",
    "Now that we have tested ChatGPTs ability to understand what is around Penn campus, we will test its ability to get ME around Penn Campus. Similar to last experiment we will start with an easy question and move up in dificulty. I started by asking ChatGPT:\n",
    "\n",
    "**\"If I am at Rodin college house what is the most optimal way to get to Houston Hall as a Upenn Student.\"**\n",
    "\n",
    "ChatGPT gave the following response:\n",
    "\n",
    "\"If you're at **Rodin College House**, the most optimal way to get to **Houston Hall** as a Penn student would be:\n",
    "\n",
    "### **Primary Route (Fastest & Most Direct) – Approx. 7 min Walk**\n",
    "1. Exit **Rodin** and head **south on 40th Street** toward **Locust Walk**.\n",
    "2. Turn **left (east) onto Locust Walk** and continue straight.\n",
    "3. Walk along **Locust Walk**, passing **Harrison College House**, **Gutmann College House**, and the **Quad**.\n",
    "4. **Houston Hall** is on your **left** just before reaching **36th Street**.\n",
    "\n",
    "This route is the best because:\n",
    "- **Locust Walk is pedestrian-friendly** and the main thoroughfare of campus.\n",
    "- It’s a **scenic route** where you’ll likely run into friends or student organizations tabling.\n",
    "- It’s **well-lit and safe**, making it a great option even at night.\n",
    "\n",
    "### **Alternative Route (Bad Weather or Indoor Option)**\n",
    "If it's raining or too cold, you can modify your route slightly:\n",
    "1. Walk **through the high-rises (Harrison, Harnwell, or Gutmann)** and cut over to **Locust Walk** via **Gutmann’s indoor connector**.\n",
    "2. Continue on **Locust Walk** to Houston Hall.\n",
    "\n",
    "Would you like an optimized route for any other locations?\"\n",
    "\n",
    "\n"
   ]
  },
  {
   "cell_type": "markdown",
   "id": "11c8dd13-64cc-4418-a574-c3d053c7eacb",
   "metadata": {},
   "source": []
  },
  {
   "cell_type": "markdown",
   "id": "19bca9fd-eb74-4f6d-ade0-79e7fbc7ee20",
   "metadata": {},
   "source": []
  }
 ],
 "metadata": {
  "kernelspec": {
   "display_name": "Python 3 (ipykernel)",
   "language": "python",
   "name": "python3"
  },
  "language_info": {
   "codemirror_mode": {
    "name": "ipython",
    "version": 3
   },
   "file_extension": ".py",
   "mimetype": "text/x-python",
   "name": "python",
   "nbconvert_exporter": "python",
   "pygments_lexer": "ipython3",
   "version": "3.10.12"
  }
 },
 "nbformat": 4,
 "nbformat_minor": 5
}
