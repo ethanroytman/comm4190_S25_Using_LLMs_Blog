{
 "cells": [
  {
   "cell_type": "code",
   "execution_count": null,
   "id": "1b9ceee9-a2b5-4785-b49f-8acb07e06ab1",
   "metadata": {},
   "outputs": [],
   "source": [
    "---\n",
    "title: \"Can ChatGPT see into the future?\"\n",
    "execute:\n",
    "  echo: false\n",
    "description: \"This post will test ChatGPT's ability to alter people's faces through its DALLE capabiltiies.\"\n",
    "  \n",
    "author: \"Ethan Roytman\"\n",
    "date: \"3/7/2025\"\n",
    "categories:\n",
    "  - LLMs\n",
    "  - Memory Recall\n",
    "  - AI Reasoning\n",
    "---"
   ]
  },
  {
   "cell_type": "markdown",
   "id": "7c000cdf-2d6b-4f11-8f77-f43d20addcb1",
   "metadata": {},
   "source": [
    "# Introduction\n",
    "\n",
    "I recently got inspired by a trend of people putting their faces onto random celebrities, so I wanted to try to see how good ChatGPT is at aging people. There will be two categories of people I will attempt to have ChatGPT age: celebrities and myself. I am curious if ChatGPT will know that they are celebrities and reconstruct according to what they already look like. Thats why I will be comparing the celebrity aging to the aging of myself."
   ]
  },
  {
   "cell_type": "markdown",
   "id": "e4ae294b-15fd-4b17-b472-0208c6f39181",
   "metadata": {},
   "source": [
    "# Celebrity Section\n",
    "\n",
    "I first gave it the classic picture of a baby Lebron with an elephant, and asked ChatGPT to age it to 36.\n",
    "\n",
    "Baby Elephant Lebron:\n",
    "\n",
    "<img src=\"Elephant Bron.png\" width=\"50%\"/>\n",
    "\n",
    "Aged-up Lebron:\n",
    "\n",
    "<img src=\"OldBron.png\" width=\"50%\"/>\n",
    "\n",
    "Unfortunately, this man does not look like the greatest basketball player ever, meaning ChatGPT either a) didn't recognize it was Lebron or b) isn't incorporating it in their analysis. To test it, I gave it a more LeBron-looking picture of him as a kid to see if it would yield a more accurate result.\n",
    "\n",
    "<img src=\"young bron.png\" width=\"50%\"/>\n",
    "\n",
    "When I gave it the above image, it gave the following response:\n",
    "\n",
    "\"Thanks! I'll now generate an updated version of your image at age 36 using this photo of him at 19 as a more accurate reference. One moment.\n",
    "\n",
    "I wasn't able to generate the updated image because this request violates our content policies. If you’d like help with something else or want to try a different kind of request, feel free to let me know!\"\n",
    "\n",
    "This means that previously, when it generated a bad grown-up version of Lebron, it had not recognized it as Lebron. This prevents us from testing how good it is at growing up celebrities since it violates their content policies. However, this made me curious about the extent to which it recognized celebrities. I tried to setlle the GOAT debate with this picture of baby Jordan:\n",
    "\n",
    "<img src=\"young bum\" width=\"50%\"/>\n",
    "\n",
    "However, it returned the same content violation response. Now I wanted to test how relevant a celebrity in the basketball world had to be for ChatGPT to recognize it, so I gave it this picture of Kareem:\n",
    "\n",
    "<img src=\"kareem.png\" width=\"50%\"/>\n",
    "\n",
    "It returned the same content violation, so I decided to drop down the basketball relevancy ladder a bit to my third favorite Heat player Jaime Jaquez jr. \n",
    "\n",
    "<img src=\"jamiejr.png\" width=\"50%\"/>\n",
    "\n",
    "This time, it didn't return the content violation - instead, it gave this image:\n",
    "\n",
    "<img src=\"fakejamie.png\" width=\"50%\"/>\n",
    "\n",
    "This image helps us learn two things: a) ChatGPT probably cannot accurately age celebrities, and b) the line of relevancy for content violations is somewhere between the 3rd best basketball player of all time and Kareem Abdul-Jabbar."
   ]
  },
  {
   "cell_type": "markdown",
   "id": "80a7aa03-ef12-4a36-b04c-612b01948615",
   "metadata": {},
   "source": [
    "# Individual Section\n",
    "\n",
    "In order to see whether the online pictures of celebrities were too scarce to see someone actually age, I decided to use some photos of me when I was little. This one below is me from when I was 6.\n",
    "\n",
    "<img src=\"youngethan.png\" width=\"50%\"/>\n",
    "\n",
    "I gave ChatGPT the prompting to turn my into a 19 year old and below is what it returned to me:\n",
    "\n",
    "<img src=\"olderethan.png\" width=\"50%\"/>\n",
    "\n",
    "While it doesn't look exactly like me, I can draw 2 key conclusions from this image. First, ChatGPT is pretty good at aging images of people. While it doesn't look like current me, it definitely has the same nose and eyes. I will also give it bonus points for looking like an aged-up version of the image. The second is that ChatGPT has no clue how old a 19-year-old looks, because that image looks at least 30. To further test this, I am going to give ChatGPT an image of me that is both older and looks more like the current version of me.\n",
    "\n",
    "<img src=\"otheryoungethan.png\" width=\"50%\"/>\n",
    "\n",
    "I gave the above image to ChatGPT and asked it to age it to 19 again.\n",
    "\n",
    "<img src=\"oldethan.png\" width=\"50%\"/>\n",
    "\n",
    "This image somehow looks less like the actual 19-year-old ethan, however, it does again look like an older version of the image I provided. This helped me realize that ChatGPT is good at making older versions of images it is given by just aging the features on the face and maintaining the same position/hairstyle. It also helped me reaffirm the fact that ChatGPT does NOT know what a 19-year-old looks like."
   ]
  },
  {
   "cell_type": "markdown",
   "id": "6e767f0e-4ae0-4a20-afdd-e7b203670f60",
   "metadata": {},
   "source": [
    "# Conclusion\n",
    "\n",
    "- ChatGPT is not the best at actually making people look like their older selves. However, I feel like this is an unreasonably hard task to do as there are a bunch of factors that culminate in aging. I will say ChatGPT was pretty good at making older versions of images it was provided.\n",
    "- ChatGPT is not the most accurate at making people a specific (granted there is a lot of variance) as it consistently made a 19 year old look late 20s/early 30s.\n",
    "- Overall, ChatGPT is pretty good at recognizing celebrities - even when they are younger versions of themselves. I'd assume OpenAI put a lot of content moderation/effort into this capability to prevent lawsuits - and honestly it did a really good job. Even when I reffered to younger pics of the celebrites as myself/cousins, it would refuse to budge."
   ]
  }
 ],
 "metadata": {
  "citation-manager": {
   "items": {}
  },
  "kernelspec": {
   "display_name": "Python 3 (ipykernel)",
   "language": "python",
   "name": "python3"
  },
  "language_info": {
   "codemirror_mode": {
    "name": "ipython",
    "version": 3
   },
   "file_extension": ".py",
   "mimetype": "text/x-python",
   "name": "python",
   "nbconvert_exporter": "python",
   "pygments_lexer": "ipython3",
   "version": "3.10.12"
  }
 },
 "nbformat": 4,
 "nbformat_minor": 5
}
