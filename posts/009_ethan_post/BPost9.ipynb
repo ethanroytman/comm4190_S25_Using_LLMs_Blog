{
 "cells": [
  {
   "cell_type": "raw",
   "id": "7648a581-c6ca-4dc8-a2d9-cd498c815ebe",
   "metadata": {},
   "source": [
    "---\n",
    "title: \"LLMs head to head\"\n",
    "execute:\n",
    "  echo: false\n",
    "description: \"Two platforms debate and then ask each platform to give an objective answer on who won\"\n",
    "  \n",
    "author: \"Ethan Roytman\"\n",
    "date: \"3/1/2025\"\n",
    "categories:\n",
    "  - LLMs\n",
    "  - Image Rxecreation\n",
    "  - AI reasoning\n",
    "---"
   ]
  },
  {
   "cell_type": "markdown",
   "id": "72c6b160-a8cc-4bac-93e2-0085352599aa",
   "metadata": {},
   "source": []
  }
 ],
 "metadata": {
  "citation-manager": {
   "items": {}
  },
  "kernelspec": {
   "display_name": "Python 3 (ipykernel)",
   "language": "python",
   "name": "python3"
  },
  "language_info": {
   "codemirror_mode": {
    "name": "ipython",
    "version": 3
   },
   "file_extension": ".py",
   "mimetype": "text/x-python",
   "name": "python",
   "nbconvert_exporter": "python",
   "pygments_lexer": "ipython3",
   "version": "3.10.12"
  }
 },
 "nbformat": 4,
 "nbformat_minor": 5
}
