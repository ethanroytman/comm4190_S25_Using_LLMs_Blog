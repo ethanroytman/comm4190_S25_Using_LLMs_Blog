{
 "cells": [
  {
   "cell_type": "raw",
   "id": "9b81864c-a909-49e7-8dfe-728bab0b935b",
   "metadata": {},
   "source": [
    "---\n",
    "title: \"Can ChatGPT Invent New Slang?\"\n",
    "execute:\n",
    "  echo: false\n",
    "description: \"Testing ChatGPT's ability to create new slang words.\"\n",
    "  \n",
    "author: \"Ethan Roytman\"\n",
    "date: \"4/3/2025\"\n",
    "categories:\n",
    "  - LLMs\n",
    "  - Memory Recall\n",
    "  - AI Reasoning\n",
    "---"
   ]
  },
  {
   "cell_type": "markdown",
   "id": "5a3ca805-9186-42f6-bb58-d115c3f23136",
   "metadata": {},
   "source": [
    "# Introduction\n",
    "\n",
    "The amount of progress LLMs have had in the past couple of years is astonishing, particularly in their ability to mimic human language and speech patterns. One of the hardest aspects of human language to produce is new slang words. Thus, I wanted to see if ChatGPT could keep up by inventing slang of its own, so I asked it for three completely new slang terms, along with definitions and examples. The goal was to see whether the AI could be original, or if it would just remix things we’ve already heard."
   ]
  },
  {
   "cell_type": "markdown",
   "id": "9aaff92d-ac97-4b08-8bd0-1e353ed87443",
   "metadata": {},
   "source": [
    "# Phase 1 Broad Slang\n",
    "\n",
    "I prompted ChatGPT to give me 3 new slang words. Here’s what it gave me:\n",
    "\n",
    "1. **Zorped** *(adj.)*\n",
    "\n",
    "Meaning: Overwhelmed in a hilarious or ridiculous way; so confused or disoriented that you just go with it.\n",
    "Origin: A mash of “zoned out” and “warped.”\n",
    "Example: “Bro, I walked into the wrong Zoom class and answered a question before I realized. I was *zorped*.”\n",
    "\n",
    "\n",
    "2. **Snaxie** *(n.)*\n",
    "\n",
    "Meaning: A person who’s not just attractive but also brings good vibes, energy, and conversation—like a full package snack.\n",
    "Origin: Evolves from “snack” (attractive person) + “taxi” (someone who carries the group vibe).\n",
    "Example: “She’s a total *snaxie*. Showed up late but saved the whole party.”\n",
    "\n",
    "\n",
    "3. **Floop** *(v.)*\n",
    "\n",
    "Meaning: To casually fail or mess up but without consequences; to flop in a funny, low-stakes way.\n",
    "Example: “Tried to do a backflip and just *flooped* into the grass. 10/10 experience.”\n",
    "\n",
    "\n",
    "**Analysis**\n",
    "\n",
    "ChatGPT was able to produce slang words that made sense in the context they are used. It also made ones that flow smoothly, like how slang is supposed to. However, it falls into a trap of just branching off existing slang and not really innovating. Calling someone a snaxie is essentially the same as calling someone a snack, zorped out is the same thing as zoned out, and floop is literally just flop with an extra o."
   ]
  },
  {
   "cell_type": "markdown",
   "id": "5a3cb9b5-e05d-483b-9ff7-d6ce9bddbe49",
   "metadata": {},
   "source": [
    "## Phase 2: College-Specific Slang\n",
    "\n",
    "Next, I asked ChatGPT to localize its slang — to generate terms that would make sense specifically in a **college environment**. The results:\n",
    "\n",
    "1. **Syllabust** *(verb)*\n",
    "\n",
    "Meaning: To hype up a course during syllabus week only for it to turn out way harder or more boring than expected.\n",
    "Example: “Man, I thought this class was gonna be chill—Professor really *syllabusted* us.”\n",
    "\n",
    "2. **Laxam** *(noun)*\n",
    "\n",
    "Meaning: A fake study session where no one actually studies—just chill vibes, snacks, and good intentions.\n",
    "Origin: Combo of “lax” and “exam.”\n",
    "Example: “We had a *laxam* in the lounge last night. Opened our laptops, ended up watching YouTube for three hours.”\n",
    "\n",
    "3. **Dorb** *(noun)*\n",
    "\n",
    "Meaning: A dorm-room goblin; someone who never leaves their room except for class and food.\n",
    "Example: “Haven’t seen Jake at a party since orientation. Dude’s gone full *dorb* mode.”\n",
    "\n",
    "**Analysis**\n",
    "\n",
    "ChatGPT was able to adapt the slang words it created to a college setting, involving sylabbi and skipping class. These adapted slang words were also unqiue words for college experiences that didn't just branch off existing slang."
   ]
  },
  {
   "cell_type": "markdown",
   "id": "a3e70125-028d-4b6c-8e3c-f93adc442080",
   "metadata": {},
   "source": [
    "## Conclusion\n",
    "\n",
    "When asked for broader slang ChatGPT falls into a pitfall of just adjusting already existing slang. However, when you ask it to provide slang for a contextual situation (i.e. a college campus) it will create unique slang. It is important to note that while this slang is unique it doesn't really flow off the tounge like slang. For example, dorb doesn't mimic the noises or sounds usualy in slang words and it is based off an abbreviation of dorm goblin - something no one says. For this slang to actually disseminate it would need to be based off something college students currrently say."
   ]
  }
 ],
 "metadata": {
  "citation-manager": {
   "items": {}
  },
  "kernelspec": {
   "display_name": "Python 3 (ipykernel)",
   "language": "python",
   "name": "python3"
  },
  "language_info": {
   "codemirror_mode": {
    "name": "ipython",
    "version": 3
   },
   "file_extension": ".py",
   "mimetype": "text/x-python",
   "name": "python",
   "nbconvert_exporter": "python",
   "pygments_lexer": "ipython3",
   "version": "3.10.12"
  }
 },
 "nbformat": 4,
 "nbformat_minor": 5
}
