{
 "cells": [
  {
   "cell_type": "raw",
   "id": "9b81864c-a909-49e7-8dfe-728bab0b935b",
   "metadata": {},
   "source": [
    "---\n",
    "title: \"How Well Does ChatGPT Know me?\"\n",
    "execute:\n",
    "  echo: false\n",
    "description: \"Two platforms debate and then ask each platform to give an objective answer on who won\"\n",
    "  \n",
    "author: \"Ethan Roytman\"\n",
    "date: \"4/3/2025\"\n",
    "categories:\n",
    "  - LLMs\n",
    "  - Memory Recall\n",
    "  - AI Reasoning\n",
    "---"
   ]
  }
 ],
 "metadata": {
  "citation-manager": {
   "items": {}
  },
  "kernelspec": {
   "display_name": "Python 3 (ipykernel)",
   "language": "python",
   "name": "python3"
  },
  "language_info": {
   "codemirror_mode": {
    "name": "ipython",
    "version": 3
   },
   "file_extension": ".py",
   "mimetype": "text/x-python",
   "name": "python",
   "nbconvert_exporter": "python",
   "pygments_lexer": "ipython3",
   "version": "3.10.12"
  }
 },
 "nbformat": 4,
 "nbformat_minor": 5
}
