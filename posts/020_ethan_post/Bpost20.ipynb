{
 "cells": [
  {
   "cell_type": "raw",
   "id": "d59baa3f-fad4-4c64-9245-7a26df36a420",
   "metadata": {},
   "source": [
    "---\n",
    "title: \"The Last Hurrah\"\n",
    "execute:\n",
    "  echo: false\n",
    "description: \"This post will have ChatGPT select its favorite blog post.\"\n",
    "  \n",
    "author: \"Ethan Roytman\"\n",
    "date: \"4/11/2025\"\n",
    "categories:\n",
    "  - LLMs\n",
    "  - Memory Recall\n",
    "  - AI Reasoning\n",
    "---"
   ]
  },
  {
   "cell_type": "markdown",
   "id": "004f4d50-abf4-4304-adb5-bc804223c5d4",
   "metadata": {},
   "source": [
    "# Overview\n",
    "\n",
    "It is sorta bittersweet writing my last blog post, so I wanted to make it something really interesting. What I settled on is having ChatGPT choose its favorite blog post out of all of my posts. To do this, I uploaded all 19 of my blog posts and asked ChatGPT to carefully read through each of the files and choose a favorite. I thought this would achieve two things. First, it will see if ChatGPT is able to scan through 19 different files, analyze the data, and synthesize it to choose a 'favorite.' Second, is to see if ChatGPT knows ball and will actually choose the best blog post."
   ]
  },
  {
   "cell_type": "markdown",
   "id": "8769d6ca-be0c-4f31-88a9-7c2048cc56e4",
   "metadata": {},
   "source": [
    "# ChatGPT's Response\n",
    "\n",
    "ChatGPT gave the following answer: \n",
    "\n",
    "\"Out of the blog posts you originally uploaded, my favorite is **BPost10.ipynb** — the one where you had ChatGPT simulate a debate between two personas and then asked it to evaluate who won.\n",
    "\n",
    "**Why?**\n",
    "Because it perfectly captures the tone and structure you’ve been honing across all your work:\n",
    "\n",
    "* It starts with a quirky prompt that feels casual but reveals something deeper about how LLMs process argumentation.\n",
    "* The simulated dialogue reads like a real interaction, with each “side” given enough voice to sound distinct.\n",
    "* And best of all, the moment you ask ChatGPT to **objectively say who won**, it hesitates in a very human, diplomatic way—which tells you something valuable about the model’s internal constraints.\n",
    "\n",
    "It’s a post that *feels light* on the surface but subtly tests ChatGPT’s limits around subjectivity, persuasion, and conflict resolution. Also, it mirrors your overall blog voice really well: half-curious, half-mischievous, but still analytically sharp.\n",
    "\n",
    "Want to revisit that format with new figures or topics? It’s one of the strongest templates you’ve used.\""
   ]
  },
  {
   "cell_type": "markdown",
   "id": "bfa826c5-ed0c-4301-ad85-4b40b249a0d4",
   "metadata": {},
   "source": [
    "## Final Final Thoughts\n",
    "\n",
    "- ChatGPT's ability to sift through that many files and choose one as its favorite is impressive in it of itself. It is honestly really impressive how far it has gone in data collection and analysis. It was able to correctly draw specific details from the post, implying that it didn't just choose one at random - it actually analyzed the posts. It is also important to note that ChatGPT potentially could have capped itself at like 5 posts and chosen its favorite out of those.\n",
    "- In terms of choosing the correct favorite post, ChatGPT was really off the mark. The clear best post is \"Happy Birthday Louis.\" Not only does it contain cute pictures of Louis, but it also does some interesting analysis on ChatGPT's photo recreation abilities and the nuances that exist within them.\n",
    "- I also enjoyed the way in which ChatGPT explains why this blog post is its favorite. I thought the part where it says \"Also, it mirrors your overall blog voice really well: half-curious, half-mischievous, but still analytically sharp\" was particularly funny. On a serious note, the fact it was able to attribute a blog persona for me hints at the fact that it might have actually scanned through all of my uploaded files and picked up on my style of writing."
   ]
  },
  {
   "cell_type": "markdown",
   "id": "b4aa1c3e-c54d-465a-a391-1f2c8da1e48e",
   "metadata": {},
   "source": [
    "# Proof Why Louis was The Correct Best Blog Post\n",
    "\n",
    "<img src=\"Louis_OG_Image_1.jpg\" width=\"50%\"/>\n",
    "\n",
    "<img src=\"LouisBlanket.PNG\" width=\"50%\"/>\n",
    "\n",
    "<img src=\"Lounging Louis.jpg\" width=\"50%\"/>"
   ]
  }
 ],
 "metadata": {
  "citation-manager": {
   "items": {}
  },
  "kernelspec": {
   "display_name": "Python 3 (ipykernel)",
   "language": "python",
   "name": "python3"
  },
  "language_info": {
   "codemirror_mode": {
    "name": "ipython",
    "version": 3
   },
   "file_extension": ".py",
   "mimetype": "text/x-python",
   "name": "python",
   "nbconvert_exporter": "python",
   "pygments_lexer": "ipython3",
   "version": "3.10.12"
  }
 },
 "nbformat": 4,
 "nbformat_minor": 5
}
