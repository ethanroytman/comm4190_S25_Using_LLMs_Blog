{
 "cells": [
  {
   "cell_type": "raw",
   "id": "179a69f5-1f3e-4c01-922a-66497e30036e",
   "metadata": {},
   "source": [
    "---\n",
    "title: \"Can Chat GPT beat itself?\"\n",
    "execute:\n",
    "  echo: false\n",
    "description: \"Testing Chat GPT's ability to circumvent AI Detectors\"\n",
    "  \n",
    "author: \"Ethan Roytman\"\n",
    "date: \"3/1/2025\"\n",
    "categories:\n",
    "  - LLMs\n",
    "  - Image Rxecreation\n",
    "  - AI reasoning\n",
    "---"
   ]
  },
  {
   "cell_type": "markdown",
   "id": "78948591-e23d-4ced-acef-065b41a11d3c",
   "metadata": {},
   "source": [
    "# Introduction \n",
    "\n",
    "Chat GPT has a feature where it has multiple \"Custom GPTs\" on its site; these include \"Code Copilot,\" \""
   ]
  }
 ],
 "metadata": {
  "kernelspec": {
   "display_name": "Python 3 (ipykernel)",
   "language": "python",
   "name": "python3"
  },
  "language_info": {
   "codemirror_mode": {
    "name": "ipython",
    "version": 3
   },
   "file_extension": ".py",
   "mimetype": "text/x-python",
   "name": "python",
   "nbconvert_exporter": "python",
   "pygments_lexer": "ipython3",
   "version": "3.10.12"
  }
 },
 "nbformat": 4,
 "nbformat_minor": 5
}
