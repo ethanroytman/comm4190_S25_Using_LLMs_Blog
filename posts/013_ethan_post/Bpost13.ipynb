{
 "cells": [
  {
   "cell_type": "raw",
   "id": "d0325ce3-ee14-4fc6-a661-521fe63da99d",
   "metadata": {},
   "source": [
    "---\n",
    "title: \"Can ChatGPT NAME THAT TUNE?\"\n",
    "execute:\n",
    "  echo: false\n",
    "description: \"In this post, I will feed increasingly niche lyrics to ChatGPT to see if it can identify the artist or track.\"\n",
    "  \n",
    "author: \"Ethan Roytman\"\n",
    "date: \"3/14/2025\"\n",
    "categories:\n",
    "  - LLMs\n",
    "  - Memory Recall\n",
    "  - AI Reasoning\n",
    "---"
   ]
  },
  {
   "cell_type": "markdown",
   "id": "59c38c92-08e7-4425-8706-8b2acbf53370",
   "metadata": {},
   "source": [
    "# Introduction\n",
    "\n",
    "I wanted to test ChatGPT’s ability to recognize song lyrics, from extremely popular lines to more niche ones. The idea was to feed it lyrics from three artists of decreasing mainstream popularity and see if it can identify the song or artist. If ChatGPT proves to be successful than maybe I can steal my friends music taste using ChatGPT instead of having to ask the embarassing \"what song is this by the way.\" "
   ]
  },
  {
   "cell_type": "markdown",
   "id": "09d7afa9-5cb5-4f2d-b418-06f9c7cf9b6a",
   "metadata": {},
   "source": [
    "# Lyric Recognition Challenge\n",
    "\n",
    "This section will present ChatGPT with different lyrics from songs of decreasing popularity without the artists name. The lyrics will be about two lines long and phrased casually as if you remembered a lyric and wanted ChatGPT to find it.\n",
    "\n",
    "## Most Mainstream\n",
    "\n",
    "**Lyric**: \"Who's calling my phone? Who's calling that shit?\"\n",
    "\n",
    "**ChatGPT Response:** \"The lyrics \"Who's callin' my phone? (Who's callin' that shit?)\" are from the song \"NOKIA\" by Drake, featuring Elkan. This track is part of Drake's collaborative album with PartyNextDoor titled Some Sexy Songs 4 U, released in 2025. The song is structured in two parts:\n",
    "Part I: Drake repeatedly questions who's calling his phone, mentioning various names like Stacy, Becky, and Keisha, and inquires about the location of a party.\n",
    "Part II: The focus shifts to a club setting, where Drake and Elkan describe interactions with women, emphasizing dance and social media presence.\n",
    "The lyrics reflect themes of nightlife, relationships, and social interactions.\n",
    "For a visual and auditory experience of the song, you can watch the official lyric video below:\"\n",
    "\n",
    "Not only did ChatGPT get the song right it also provided an anaylsis of the song as well as a link to listen to it. This was relatively expected as Drake just released Nokia and it is his top charting song right now.\n",
    "\n",
    "## Less Mainstream\n",
    "\n",
    "**Lyric**: \"imma lean for real imma beans for real\"\n",
    "\n",
    "**ChatGPT Response:** \"The lyrics \"I'm on 'em beans for the real, I'm on the lean for real\" are from the song \"Lean 4 Real\" by Playboi Carti, featuring Skepta. This track is part of Carti's 2018 debut studio album, Die Lit.\n",
    "In \"Lean 4 Real,\" Playboi Carti delivers a hypnotic, repetitive hook emphasizing his use of \"beans\" (slang for MDMA or ecstasy) and \"lean\" (a mixture of codeine cough syrup and soda), reflecting themes of intoxication and the lifestyle associated with it. Skepta contributes a verse that complements the track's moody, atmospheric production.\n",
    "The song is known for its minimalist beat and Carti's distinctive vocal style, which have contributed to its popularity among fans of the trap and mumble rap genres.\n",
    "You can listen to \"Lean 4 Real\" here:\"\n",
    "\n",
    "Honestly, I am pretty impressed ChatGPT got it off just that lyric, as it isn't one of Carti's most popular songs and is a song that people who listen to him would know, but is definitely not public knowledge. I also got some of the lyrics wrong when I was typing them, and ChatGPT still got it right.\n",
    "\n",
    "## Niche\n",
    "\n",
    "**Lyric**: \"one shot click click click eeo eeo eeo\"\n",
    "\n",
    "**ChatGPT Response:** The lyrics \"One shot, click-click-click, eeo eeo eeo\" are from the song \"Western Union\" by Ecco2k, Thaiboy Digital, and Bladee. This track is part of the Drain Gang collective's discography, known for their ethereal and experimental sound within the cloud rap and hyperpop genres. \n",
    "In \"Western Union,\" the artists blend atmospheric beats with introspective lyrics, creating a unique auditory experience that has garnered a dedicated fanbase. The song's distinctive opening line sets the tone for its innovative style and has become a recognizable phrase among listeners.\n",
    "You can listen to \"Western Union\" and view its lyrics in the following video\"\n",
    "\n",
    "This response demonstrates two things. First, ChatGPT is really good at recognizing song lyrics, as this song is by a group of relatively unpopular artists. Second, ChatGPT could recognize the song lyrics despite the fact that I typed \"eeo eeo eeo\" instead of \"reload reload reload.\" This means that it potentially realized that \"eeo eeo eeo\" was a similar sound to the \"reload reload reload\" in the song.\n",
    "\n",
    "\n",
    "## Unreleased\n",
    "\n",
    "For this last song, I am going to provide it with an unreleased song and a description of what the song is talking about instead of the lyrics. This will be the final test to see if ChatGPT can recognize songs from the vague concept of a song, even if it isn't released on official streaming platforms.\n",
    "\n",
    "**Description:** \"whats the drake song where he talks about how many bodies someone has and what that means its unreleased i think and its him rapping.\"\n",
    "\n",
    "**ChatGPT Response:** \"It seems you're referring to an unreleased Drake song where he discusses someone's \"body count\" and its implications. A notable lyric snippet circulating online is:\n",
    "\"I told you I stopped keeping count when I was 25.\"\n",
    "This line has been featured in various TikTok videos, suggesting it's from an unreleased track where Drake reflects on his past relationships or experiences. The specific title of the song isn't confirmed, but fans often refer to it as \"Bodies\" or \"Body 2 Body.\" These snippets have sparked discussions and speculations about the song's content and meaning.\n",
    "For a glimpse of this unreleased track, you might find this TikTok video insightful:\"\n",
    "\n",
    "**Follow Up:** \"can you find the full song lyrics\"\n",
    "\n",
    "**ChatGPT Response:** \n",
    "\n",
    "\"The song you're referring to is Drake's unreleased track titled \"Zodiac Sign,\" featuring Jessie Reyez. This song delves into themes of past relationships, honesty, and the complexities of discussing one's romantic history.\n",
    "In the song, Drake addresses questions about his past partners with lines like:\n",
    "\"You ask how many girls I been with in my life\n",
    "I tell ya, 'I stopped keeping count when I was 25'\"\n",
    "He further reflects on the nature of such conversations:\n",
    "\"But we both know that's a lie\n",
    "'Cause if we countin' head and if we countin' drunken nights\n",
    "Then that number that you gave just might be off by eight or nine\n",
    "But it's still nowhere close to mine\"\n",
    "Jessie Reyez's verse offers a candid perspective on the topic, emphasizing authenticity over comfort:\n",
    "\"You say you wanna know but you don't though\n",
    "Why you wanna know who I cropped out of photos?\n",
    "And lately, papi, you been acting tonto\n",
    "What you think before you, I was only movin' dolo\"\n",
    "Paroles2Chansons\n",
    "The song explores the tension between transparency and the discomfort it can bring in relationships. While \"Zodiac Sign\" remains unreleased officially, snippets and discussions about it have circulated online, sparking interest among fans.\n",
    "For a glimpse of this unreleased track, you might find this TikTok video insightful:\"\n",
    "\n",
    "Despite the fact that I gave ChatGPT a vague (truly awful) description, it was able to find the Drake track. This honestly concludes the testing, as no matter how niche and terrible the description, ChatGPT was able to find the song."
   ]
  },
  {
   "cell_type": "markdown",
   "id": "94f1350f-6a67-4d61-b026-afd0af5c7634",
   "metadata": {},
   "source": [
    "# Conclusion\n",
    "\n",
    "ChatGPT **can** help you steal your friend's music taste. Whether it was presented incorrect lyrics, vague song descriptions, or songs barely anyone listens to - ChatGPT was able to effectively figure out what song it was. On top of that, ChatGPT was very good about breaking down songs and providing links to them."
   ]
  }
 ],
 "metadata": {
  "citation-manager": {
   "items": {}
  },
  "kernelspec": {
   "display_name": "Python 3 (ipykernel)",
   "language": "python",
   "name": "python3"
  },
  "language_info": {
   "codemirror_mode": {
    "name": "ipython",
    "version": 3
   },
   "file_extension": ".py",
   "mimetype": "text/x-python",
   "name": "python",
   "nbconvert_exporter": "python",
   "pygments_lexer": "ipython3",
   "version": "3.10.12"
  }
 },
 "nbformat": 4,
 "nbformat_minor": 5
}
