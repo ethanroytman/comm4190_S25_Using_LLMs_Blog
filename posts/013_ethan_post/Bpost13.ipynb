{
 "cells": [
  {
   "cell_type": "raw",
   "id": "d0325ce3-ee14-4fc6-a661-521fe63da99d",
   "metadata": {},
   "source": [
    "---\n",
    "title: \"How Well Does ChatGPT Know me?\"\n",
    "execute:\n",
    "  echo: false\n",
    "description: \"Two platforms debate and then ask each platform to give an objective answer on who won\"\n",
    "  \n",
    "author: \"Ethan Roytman\"\n",
    "date: \"3/14/2025\"\n",
    "categories:\n",
    "  - LLMs\n",
    "  - Memory Recall\n",
    "  - AI Reasoning\n",
    "---"
   ]
  }
 ],
 "metadata": {
  "citation-manager": {
   "items": {}
  },
  "kernelspec": {
   "display_name": "Python 3 (ipykernel)",
   "language": "python",
   "name": "python3"
  },
  "language_info": {
   "codemirror_mode": {
    "name": "ipython",
    "version": 3
   },
   "file_extension": ".py",
   "mimetype": "text/x-python",
   "name": "python",
   "nbconvert_exporter": "python",
   "pygments_lexer": "ipython3",
   "version": "3.10.12"
  }
 },
 "nbformat": 4,
 "nbformat_minor": 5
}
