{
 "cells": [
  {
   "cell_type": "raw",
   "id": "4c545ff3-6bbc-4fc6-8a7e-7ba4bb1dc328",
   "metadata": {},
   "source": [
    "---\n",
    "title: \"Happy Birthday Louis!\"\n",
    "execute:\n",
    "  echo: false\n",
    "description: \"This post will explore DALLE's ability to recreate images.\"\n",
    "  \n",
    "author: \"Ethan Roytman\"\n",
    "date: \"2/24/2025\"\n",
    "categories:\n",
    "  - LLMs\n",
    "  - Image Recreation\n",
    "  - AI reasoning\n",
    "---"
   ]
  },
  {
   "cell_type": "markdown",
   "id": "1274d52d-4a1b-4720-b312-20c9c13a6a9b",
   "metadata": {},
   "source": [
    "## Introduction  \n",
    "\n",
    "Today is my dog Louis's 8th Birthday!!! In honor of him, this post will be centered around Dalle's ability to recreate images - specifically images of him. We will be both analyzing the accuracy of the image that is recreated and also noticing the prompt it creates to describe the image."
   ]
  },
  {
   "cell_type": "markdown",
   "id": "18e32173-60a4-46ba-8d09-1eb07bc6a2ea",
   "metadata": {},
   "source": [
    "## LLAMA Louis\n",
    "\n",
    "Below is the first picture we will be tasking Dalle to recreate. I give it the initial prompt of the following: \"Today we are going trying to recreate images of my dog Louis. I want you to pay as much detail to all of the items in the image as well as the orientation of the dog. We will start out with recreating this uploaded image.\"\n",
    "\n",
    "Below is the image:\n",
    "\n",
    "<img src=\"Louis_OG_Image_1.jpg\" width=\"50%\"/>\n",
    "\n",
    "When I first put into Chatgpt it recreated it as the following:\n",
    "\n",
    "<img src=\"ChatGPT Attempt 1.webp\" width=\"50%\"/>\n",
    "\n",
    "Not only did they butcher Louis's face, but they also made the plushy the wrong type of animal. Because of this, I went to the prompt Chat GPT generated every time it generated an image. It displayed the following: \"A detailed recreation of a cozy indoor scene featuring a gray standard poodle lying on a couch. The dog rests its head gently on a brown plush toy with pink feet and a pink face, which has visible wear. The couch is covered with a soft white blanket that has black striped patterns. The dog's body is stretched out comfortably, with a relaxed and peaceful expression. The lighting is soft and warm, enhancing the calm atmosphere of the scene.\"\n",
    "\n",
    "From the description you can realize that the reason ChatGPT messaged it up is that it simplified the llamma stuffed animal to just a \"plush toy.\" This can suggest two things a) ChatGPT has a limited amount of stimuli it can describe and recreate, b) Chat GPT doesn't have the ability to realize what kind of animal the plush toy is, or C) it doesn't regard it as an important detail. \n",
    "\n",
    "To test these options I told ChatGPT \"its a llamma not a dog plush toy\" and it generated the following image:\n",
    "\n",
    "<img src=\"Chat GPT Attempt 2.webp\" width=\"50%\"/>\n",
    "\n",
    "This image is significantly more accurate than the first generation. Not only did it get the toy correct, it also mimics Louis's facial expression and the zoom of the picture better. This POTENTAILLY suggests that Chat GPT may have returned to the original reference when creating the llama to then incorporate said llama into the recreation. If that is what Chat GPT then it would help us rule out some of the hypotheses from the last image. It would prove that Chatgpt does have the ability to realize what kind of animal the plush toy is and that it also isn't limited on the amount of stimulus it can generate. Thus, it would mean that on the original scan of the image - it didn't regard the type of animal the toy was as an important detail.\n",
    "\n",
    "To figure this out lets run through more scenarios."
   ]
  },
  {
   "cell_type": "code",
   "execution_count": null,
   "id": "1b285fed-a168-45cc-b59c-6260000027c0",
   "metadata": {},
   "outputs": [],
   "source": []
  }
 ],
 "metadata": {
  "kernelspec": {
   "display_name": "Python 3 (ipykernel)",
   "language": "python",
   "name": "python3"
  },
  "language_info": {
   "codemirror_mode": {
    "name": "ipython",
    "version": 3
   },
   "file_extension": ".py",
   "mimetype": "text/x-python",
   "name": "python",
   "nbconvert_exporter": "python",
   "pygments_lexer": "ipython3",
   "version": "3.10.12"
  }
 },
 "nbformat": 4,
 "nbformat_minor": 5
}
