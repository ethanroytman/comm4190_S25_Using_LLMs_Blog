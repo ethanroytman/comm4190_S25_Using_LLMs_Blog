{
 "cells": [
  {
   "cell_type": "raw",
   "id": "4c545ff3-6bbc-4fc6-8a7e-7ba4bb1dc328",
   "metadata": {},
   "source": [
    "---\n",
    "title: \"Happy Birthday Louis!\"\n",
    "execute:\n",
    "  echo: false\n",
    "description: \"This post will explore DALLE's ability to recreate images.\"\n",
    "  \n",
    "author: \"Ethan Roytman\"\n",
    "date: \"2/24/2025\"\n",
    "categories:\n",
    "  - LLMs\n",
    "  - Image Recreation\n",
    "  - AI reasoning\n",
    "---"
   ]
  },
  {
   "cell_type": "markdown",
   "id": "1274d52d-4a1b-4720-b312-20c9c13a6a9b",
   "metadata": {},
   "source": [
    "## Introduction  \n",
    "\n",
    "Today is my dog Louis's 8th Birthday!!! In honor of him, this post will be centered around Dalle's ability to recreate images - specifically images of him. We will be both analyzing the accuracy of the image that is recreated and also noticing the prompt it creates to describe the image."
   ]
  },
  {
   "cell_type": "markdown",
   "id": "18e32173-60a4-46ba-8d09-1eb07bc6a2ea",
   "metadata": {},
   "source": [
    "## LLAMA Louis\n",
    "\n",
    "Below is the first picture we will be tasking Dalle to recreate. I give it the initial prompt of the following: \"Today we are going trying to recreate images of my dog Louis. I want you to pay as much detail to all of the items in the image as well as the orientation of the dog. We will start out with recreating this uploaded image.\"\n",
    "\n",
    "Below is the image:\n",
    "\n",
    "<img src=\"Louis_OG_Image_1.jpg\" width=\"50%\"/>\n",
    "\n",
    "When I first put into Chatgpt it recreated it as the following:\n",
    "\n",
    "<img src=\"ChatGPT Attempt 1.webp\" width=\"50%\"/>\n",
    "\n",
    "Not only did they butcher Louis's face, but they also made the plushy the wrong type of animal. Because of this, I went to the prompt Chat GPT generated every time it generated an image. It displayed the following: \"A detailed recreation of a cozy indoor scene featuring a gray standard poodle lying on a couch. The dog rests its head gently on a brown plush toy with pink feet and a pink face, which has visible wear. The couch is covered with a soft white blanket that has black striped patterns. The dog's body is stretched out comfortably, with a relaxed and peaceful expression. The lighting is soft and warm, enhancing the calm atmosphere of the scene.\"\n",
    "\n",
    "From the description you can realize that the reason ChatGPT messaged it up is that it simplified the llamma stuffed animal to just a \"plush toy.\" This can suggest two things a) ChatGPT has a limited amount of stimuli it can describe and recreate, b) Chat GPT doesn't have the ability to realize what kind of animal the plush toy is, or C) it doesn't regard it as an important detail. \n",
    "\n",
    "To test these options I told ChatGPT \"its a llamma not a dog plush toy\" and it generated the following image:\n",
    "\n",
    "<img src=\"Chat GPT Attempt 2.webp\" width=\"50%\"/>\n",
    "\n",
    "This image is significantly more accurate than the first generation. Not only did it get the toy correct, it also mimics Louis's facial expression and the zoom of the picture better. This POTENTAILLY suggests that Chat GPT may have returned to the original reference when creating the llama to then incorporate said llama into the recreation. If that is what Chat GPT then it would help us rule out some of the hypotheses from the last image. It would prove that Chatgpt does have the ability to realize what kind of animal the plush toy is and that it also isn't limited on the amount of stimulus it can generate. Thus, it would mean that on the original scan of the image - it didn't regard the type of animal the toy was as an important detail.\n",
    "\n",
    "To figure this out lets run through more scenarios."
   ]
  },
  {
   "cell_type": "markdown",
   "id": "556029ae-3787-41e0-8574-7bdf2761f027",
   "metadata": {},
   "source": [
    "## Blanket Louis\n",
    "\n",
    "In this trial, we are going to give Chatgpt a relatively simpler picture of Louis in a blanket. As seen in the picture below, the blanket has a floral pattern. I'm curious to see the extent to which Chatgpt mirrors this pattern. This will help us see if it messed up the Llamma last time because there were too many factors or because it generally doesn't notice specific details until a second attempt.\n",
    "\n",
    "**Image I gave Chatgpt:**\n",
    "\n",
    "<img src=\"LouisBlanket.png\" width=\"50%\"/>\n",
    "\n",
    "**Recreated Image:**\n",
    "\n",
    "<img src=\"Louis Blanket Chatgpt.webp\" width=\"50%\"/>\n",
    "\n",
    "**It generated the following image description:** \"A detailed recreation of a calm and cozy indoor scene featuring a gray standard poodle lying curled up comfortably on a white bed. The poodle is partially covered with a soft blanket that has a white background and vibrant floral patterns in pink, green, and blue. The dog's head rests gently on the bed, with its fluffy tail visible and fur neatly groomed. The lighting is natural, soft, and gentle, emphasizing a relaxing atmosphere.\"\n",
    "\n",
    "While this recreation isn't perfect, it does include the floral pattern displayed on the rug; partially disproving the initial theory that GPT just doesn't care about specific details of items. Rather it probably only registers specific details about a select number of items - which is why it didn't note the toy type in the last one. The fact that each description is also the same length, gives credit to this idea of a finite amount of specific details. In every picture it is still interesting to note that while the position has been close, it hasn't been entirely accurate. Thus, for the final trial I will give it a very simple image.\n"
   ]
  },
  {
   "cell_type": "markdown",
   "id": "131965e6-7cdb-4c01-8651-1a1afa56452f",
   "metadata": {},
   "source": [
    "## Lounging Louis\n",
    "\n",
    "The final trial is going to be a simple image of Louis in an unconventional position that Chat GPT usually hasn't been able to match in previous trials. I'll put the image, recreation, and description below.\n",
    "\n",
    "**Image I gave Chatgpt:**\n",
    "\n",
    "<img src=\"Lounging Louis.jpg\" width=\"50%\"/>\n",
    "\n",
    "**Recreated Image:**\n",
    "\n",
    "<img src=\"Lounging Louis Chat.webp\" width=\"50%\"/>\n",
    "\n",
    "**It generated the following image description:** \"A cozy indoor scene featuring a gray standard poodle lying on its back with all four paws in the air. The dog rests on a white bed with a quilted texture. The room has soft lighting coming through a window with white blinds, allowing a view of the sky outside. The dog's body is relaxed and sprawled out comfortably on the bed, with its fluffy fur and groomed poodle style. The calm atmosphere is enhanced by the clean and minimalistic setting.\"\n",
    "\n",
    "The theory of the consistent image description length holds true in this trial as well. The description also relatively mirrors the same format in each of the pictures. All 3 start with \"indoor scene\" and end with a description of the atmosphere and setting. This suggests that there is a finite amount of details per image and they will find or limit details to reach that limit. This is further proven by the fact that it had extra descriptions of Louis's positioning in this picture.\n"
   ]
  },
  {
   "cell_type": "markdown",
   "id": "88b37341-7231-4663-97bb-95eb678ff509",
   "metadata": {},
   "source": [
    "### Conclusion\n",
    "\n",
    "This experiment reaffirmed how we learned LLMs process images in class; they scan through the image, noting the key components, and create an image based on that. In this series of trials, Chat GPT was asked to recreate images. Every time it was asked, it would create a description of similar length noting key things in the original image. Oftentimes, it would miss key details in the recreation, but when guided to fix said mistakes - it would do a pretty good job. This shows that while Chat GPT is good at recognizing details in images, but potentially struggles at sorting out which details are key to recreating an image. It also demonstrates that Chat GPT has a limited amount of information it can take in about an image, meaning the more complex an image the less likely it is to recreate it accurately.\n"
   ]
  }
 ],
 "metadata": {
  "kernelspec": {
   "display_name": "Python 3 (ipykernel)",
   "language": "python",
   "name": "python3"
  },
  "language_info": {
   "codemirror_mode": {
    "name": "ipython",
    "version": 3
   },
   "file_extension": ".py",
   "mimetype": "text/x-python",
   "name": "python",
   "nbconvert_exporter": "python",
   "pygments_lexer": "ipython3",
   "version": "3.10.12"
  }
 },
 "nbformat": 4,
 "nbformat_minor": 5
}
