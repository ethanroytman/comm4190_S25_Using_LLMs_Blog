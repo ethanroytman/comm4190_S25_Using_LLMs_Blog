{
 "cells": [
  {
   "cell_type": "raw",
   "id": "0d49983a-21ad-49a3-be9e-4668c89920a0",
   "metadata": {},
   "source": [
    "---\n",
    "title: \"Tweeting in Disguise: ChatGPT Imitates Niche Twitter Personalities\"\n",
    "execute:\n",
    "  echo: false\n",
    "description: \"This post will explore ChatGPT's ability to recreate the eratic writing style of some of Twitter's greatest personalities.\"\n",
    "  \n",
    "author: \"Ethan Roytman\"\n",
    "date: \"3/27/2025\"\n",
    "categories:\n",
    "  - LLMs\n",
    "  - Memory Recall\n",
    "  - AI Reasoning\n",
    "---"
   ]
  },
  {
   "cell_type": "markdown",
   "id": "9c9fdb39-ae7c-4a0d-9c83-89fc19ec2c3c",
   "metadata": {},
   "source": [
    "# Introduction\n",
    "\n",
    "Twitter is full of unique voices that are instantly recognizable. I wanted to see how well ChatGPT could mimic three very distinct Twitter personas: Antonio Brown, Shannon Sharpe, and Playboi Carti. Each has a unique tone, cadence, and style of tweeting. I wanted to see if ChatGPT could mirror their tweets and pick up the personas of each respective person."
   ]
  },
  {
   "cell_type": "markdown",
   "id": "6a3c6c7b-3f8c-4050-ae2a-afa30b51ffc5",
   "metadata": {},
   "source": [
    "\n",
    "## Antonio Brown-Style Tweets\n",
    "\n",
    "For this experiment, I wanted to test ChatGPT’s ability to emulate a high-profile (and highly chaotic) Twitter presence: **Antonio Brown**. His posts are known for being unfiltered, cryptic, self-promotional, and often layered with inside references or stream-of-consciousness energy. I prompted ChatGPT to generate *five tweets in Antonio Brown’s style*, and here’s what it came up with:\n",
    "\n",
    "**1.**\n",
    "*Why the media mad I’m free? Y’all still working 9–5 like it’s 2010. I made the league and the league made me famous, now I’m making *moves*. Don’t ask what kind. #BOOMIN*\n",
    "\n",
    "**2.**\n",
    "*They told me “AB chill” but the only thing cold is my wrist. Ice on me like I forgot how to warm up. I'm not retired I’m *reloaded**.\\*\n",
    "\n",
    "**3.**\n",
    "*CTE? Nah homie that’s **Championship Type Energy**. Y’all keep diagnosing — I’m too busy designing. Album OTW. 👑🎧*\n",
    "\n",
    "**4.**\n",
    "*Tom hit me up. I ain’t pick up. Loyalty ain’t a jersey you wear once. I’m good in the *end zone* and in life. Stay tuned. 🏈🧠💰*\n",
    "\n",
    "**5.**\n",
    "*Every day a movie but I’m the scriptwriter. Call me AB Scorsese. Big shoutout to my haters, y’all marketing me for *free**.\\*\n",
    "\n",
    "**Analysis:**\n",
    "These responses were impressively on-brand. ChatGPT captured Antonio Brown’s unique Twitter voice that is honestly impossible to contextualize but contains a mix of bravado, fractured logic, subtle self-referencing, and semi-poetic phrasing. The tone feels unpredictable but familiar, reflecting AB’s real-life posting style.  Most notably, the tweets avoid feeling like obvious satire — they sit in that strange space where it's hard to tell if it’s parody or just AB being AB. The CTE reference also gets bonus points."
   ]
  },
  {
   "cell_type": "markdown",
   "id": "99a5b7ef-f800-472e-af21-497447c9f6da",
   "metadata": {},
   "source": [
    "## Shannon Sharpe-Style Tweets\n",
    "\n",
    "After testing Antonio Brown’s signature chaos, I wanted to try a similarly erratic but different voice: **Shannon Sharpe**. His Twitter presence is essentially sports commentary and nonstop LeBron support. I asked ChatGPT to generate five tweets in Shannon Sharpe’s style. Here's what it came up with:\n",
    "**1.**\n",
    "*LeBron been in the league 20 years and STILL givin’ these young boys 40. MJ at 39 was givin’ speeches, Bron givin’ buckets. Do the math. 🐐*\n",
    "\n",
    "**2.**\n",
    "*I seen a man miss 3 FTs in the 4th and still talk spicy in the postgame. Bro, humility free — try some. 😭😭😭*\n",
    "\n",
    "**3.**\n",
    "*Ain’t no way y’all got that QB ranked top 5. I’ve seen stronger arms at the family reunion horseshoe tourney. STOP IT. 🚫🏈*\n",
    "\n",
    "**4.**\n",
    "*Unc been in the gym. I might suit up for the Nuggets if they need 6 hard fouls and 4 flexes. 💪🏿😤 #StillGotIt*\n",
    "\n",
    "**5.**\n",
    "*Skip really said Brady over Mahomes TODAY?? I almost spit out my Hennessy. Let’s be fr… That take expired 3 years ago.*\n",
    "\n",
    "\n",
    "**Analysis:**\n",
    "ChatGPT nails Shannon’s cadence: a mix of trash talk, sports takes that ride the line between logic and passion, and casual Unc humor. It understands the key elements — loyalty to LeBron, a playful ego, and jabs at takes from his fellow (incorrect) colleagues like Skip. The tweets feel like real-time reactions: things Shannon *might* say after a playoff game or a bad First Take segment."
   ]
  },
  {
   "cell_type": "markdown",
   "id": "1e3d98d0-df56-44ab-886f-0727a376a568",
   "metadata": {},
   "source": [
    "## Playboi Carti-Style Tweets\n",
    "\n",
    "To round out the experiment, I asked ChatGPT to emulate someone with arguably the most cryptic and stylistically specific Twitter presence: **Playboi Carti**. Carti’s tweets are usually fragmented, lowercase, and heavy on aesthetics. I asked for five tweets in his style. Here's what came back:\n",
    "\n",
    "**1.**\n",
    "*nvr trust a soul … not even ya reflection 🧛🏿‍♂️🩸*\n",
    "\n",
    "**2.**\n",
    "*woke up in paris in sum rick nd pain. luv it here 🖤🗼*\n",
    "\n",
    "**3.**\n",
    "*dnt call me unless it’s bout fashion or eternity.*\n",
    "\n",
    "**4.**\n",
    "*if u see me floatin … mind ya biz. 🛸🖤🩸🦇*\n",
    "\n",
    "**5.**\n",
    "*album ? idk . i’m in the void rn . 🕳️🧛🏿‍♂️🦇 . love*\n",
    "\n",
    "**Analysis:**\n",
    "These feel on brand. The tweets are fragmented, lowercase, and intentionally vague — just like Carti’s real ones. However, I will say that these tweets lack content compared to the Antonio Brown and Shannon Sharpe ones, but that could be attributed to the fact that Playboi Carti's tweets dont usually have any content."
   ]
  },
  {
   "cell_type": "markdown",
   "id": "f13a3483-bbf3-42af-b9d5-d14400caf3b0",
   "metadata": {},
   "source": [
    "# Conclusion\n",
    "\n",
    "ChatGPT adapted well to each Twitter persona. The tweets it generated for Antonio Brown, Shannon Sharpe, and Playboi Carti all reflected the tone and style you'd expect from their real accounts. While the content was made up, the voice felt believable — not overdone, just consistent with how each of them tends to post. Overall, the model showed it can pick up on the rhythm and personality behind different kinds of online voices and create tweets that feel realistic."
   ]
  }
 ],
 "metadata": {
  "citation-manager": {
   "items": {}
  },
  "kernelspec": {
   "display_name": "Python 3 (ipykernel)",
   "language": "python",
   "name": "python3"
  },
  "language_info": {
   "codemirror_mode": {
    "name": "ipython",
    "version": 3
   },
   "file_extension": ".py",
   "mimetype": "text/x-python",
   "name": "python",
   "nbconvert_exporter": "python",
   "pygments_lexer": "ipython3",
   "version": "3.10.12"
  }
 },
 "nbformat": 4,
 "nbformat_minor": 5
}
