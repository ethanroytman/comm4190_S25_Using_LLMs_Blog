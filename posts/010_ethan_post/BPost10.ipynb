{
 "cells": [
  {
   "cell_type": "raw",
   "id": "96e0c988-8e9a-4633-a7f3-4a9ce11c5572",
   "metadata": {},
   "source": [
    "---\n",
    "title: \"LLMs head to head\"\n",
    "execute:\n",
    "  echo: false\n",
    "description: \"Two platforms debate and then ask each platform to give an objective answer on who won\"\n",
    "  \n",
    "author: \"Ethan Roytman\"\n",
    "date: \"3/1/2025\"\n",
    "categories:\n",
    "  - LLMs\n",
    "  - Image Rxecreation\n",
    "  - AI reasoning\n",
    "---"
   ]
  }
 ],
 "metadata": {
  "kernelspec": {
   "display_name": "Python 3 (ipykernel)",
   "language": "python",
   "name": "python3"
  },
  "language_info": {
   "codemirror_mode": {
    "name": "ipython",
    "version": 3
   },
   "file_extension": ".py",
   "mimetype": "text/x-python",
   "name": "python",
   "nbconvert_exporter": "python",
   "pygments_lexer": "ipython3",
   "version": "3.10.12"
  }
 },
 "nbformat": 4,
 "nbformat_minor": 5
}
