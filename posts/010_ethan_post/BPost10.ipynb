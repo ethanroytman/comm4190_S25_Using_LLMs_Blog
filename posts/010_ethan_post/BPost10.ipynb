{
 "cells": [
  {
   "cell_type": "raw",
   "id": "96e0c988-8e9a-4633-a7f3-4a9ce11c5572",
   "metadata": {},
   "source": [
    "---\n",
    "title: \"How Well Does ChatGPT Know me?\"\n",
    "execute:\n",
    "  echo: false\n",
    "description: \"Two platforms debate and then ask each platform to give an objective answer on who won\"\n",
    "  \n",
    "author: \"Ethan Roytman\"\n",
    "date: \"3/3/2025\"\n",
    "categories:\n",
    "  - LLMs\n",
    "  - Memory Recall\n",
    "  - AI Reasoning\n",
    "---"
   ]
  },
  {
   "cell_type": "markdown",
   "id": "846cd28e-1092-468e-a230-0bacfc271b82",
   "metadata": {},
   "source": [
    "# Introduction \n",
    "\n",
    "This blog post will consist of me asking ChatGPT one-on-one questions about myself. Some of them will be about my question habits, some about me as an individual, and others will try to see how much information ChatGPT has on me (major, hometown, etc.) This post is possible because ChatGPT tracks and keeps a record of all of your past conversations and builds a 'portfolio' of you based on your history."
   ]
  },
  {
   "cell_type": "markdown",
   "id": "d98a6460-9b38-4fc6-851b-2aa4682f1fbb",
   "metadata": {},
   "source": [
    "## Flaws "
   ]
  },
  {
   "cell_type": "markdown",
   "id": "816518cc-d6f1-4e5b-8dce-f4bfa6f86284",
   "metadata": {},
   "source": [
    "## Question break down"
   ]
  },
  {
   "cell_type": "markdown",
   "id": "630277c5-1675-46cd-8061-813fe1cb024b",
   "metadata": {},
   "source": [
    "## Bio Questions\n",
    "\n",
    "In this section I am going to ask ChatGPT, a series of personal questions about myself. This will probably be one of the least accurate sections, as I have let friends use my account in the past, which can potentially complicate its personal information about me. However, I did personally filter through any excess information before this blog post, so hopefully that won't happen. This was made possible because ChatGPt actually keeps a record of every memory its saved and I went through that history and deleted anything not about me.\n",
    "\n",
    "**Prompting**\n",
    "\n",
    "You are going to be given a series of questions about myself (Ethan Roytman). I want you to answer them to the best of your ability using past conversations and deductive reasoning.\n",
    "\n",
    "**What is my Major**\n",
    "\n",
    "ChatGPT:\n",
    "\n",
    "Based on everything I know, your major is likely Economics or International Relations, or a combination of the two. Here’s how I deduced that: - You’ve explicitly mentioned interest and coursework related to economics, asset management, urban development, real estate finance, and international trade (like NAFTA and USMCA). - You've worked on papers analyzing economic policy and trade agreements, such as your NAFTA paper. - You've also discussed topics like foreign policy, national security, and international development, which aligns with International Relations. - You’ve taken management classes, written about emerging markets, and actively applied for internships like the NYCEDC Strategy Intern, which require a strong econ/public policy background. So, a double major in Economics and International Relations — or a primary major in Economics with heavy International Relations coursework — would be the best fit for your academic and career trajectory.\n",
    "\n",
    "Actual Answer: PPE\n",
    "\n",
    "**What is my Ethnicity**\n",
    "\n",
    "You haven’t provided a direct statement about your current ethnicity, and your name Ethan Roytman doesn’t definitively point to a specific background — although “Roytman” could be Ashkenazi Jewish in origin, that alone isn’t conclusive.\n",
    "\n",
    "So, based on:\n",
    "Your request to eliminate specific ethnic identities,\n",
    "No newly affirmed information to replace them,\n",
    "And your strong focus on accurate, non-assumptive reasoning,\n",
    "Your ethnicity is currently unspecified. If you’d like to clarify or update it, I can remember that going forward.\n",
    "\n",
    "Actual Answer: Jewish (TBF Really Easy Guess)\n",
    "\n",
    "\n",
    "**What is my year?** \n",
    "\n",
    "Based on our previous discussions, you're currently a **junior** at the University of Pennsylvania. This aligns with your academic focus in International Relations and Economics, your Statistics minor, and your involvement in internships and research opportunities. Typically, juniors at Penn have accumulated between 16.0 and 23.99 course units (c.u.) citeturn0search0.\n",
    "\n",
    "Let me know if you'd like to discuss your course planning, graduation timeline, or any other academic matters. \n",
    "\n",
    "Actual Answer: Sophomore\n",
    "\n",
    "**Where was I born/what is my hometown**\n",
    "\n",
    "From our past conversations, you've consistently identified with the New Jersey/New York area. While you haven’t explicitly said where you were born, it's likely that your hometown is somewhere in New Jersey or New York, based on:\n",
    "\n",
    "- References to working in NYC, \n",
    "- Expressed interest in NYCEDC, \n",
    "- Mention of Bridgewater, NJ, in relation to your brother’s internship,\n",
    "- Familiarity with regional real estate markets and civic programs.\n",
    "\n",
    "If you'd like me to pin it more specifically or save a certain town as your hometown, I can do that.\n"
   ]
  },
  {
   "cell_type": "code",
   "execution_count": null,
   "id": "1d8dad24-224e-4f9a-95f6-aceba9bca78f",
   "metadata": {},
   "outputs": [],
   "source": []
  }
 ],
 "metadata": {
  "citation-manager": {
   "items": {}
  },
  "kernelspec": {
   "display_name": "Python 3 (ipykernel)",
   "language": "python",
   "name": "python3"
  },
  "language_info": {
   "codemirror_mode": {
    "name": "ipython",
    "version": 3
   },
   "file_extension": ".py",
   "mimetype": "text/x-python",
   "name": "python",
   "nbconvert_exporter": "python",
   "pygments_lexer": "ipython3",
   "version": "3.10.12"
  }
 },
 "nbformat": 4,
 "nbformat_minor": 5
}
