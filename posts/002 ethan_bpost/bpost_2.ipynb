{
 "cells": [
  {
   "cell_type": "raw",
   "id": "8a4f7588-fa1f-4283-88fa-88d3fb74edf5",
   "metadata": {},
   "source": [
    "---\n",
    "title: \"Can ChatGPT Crack Crosswords? Evaluating AI's Linguistic and Logical Skills\"\n",
    "execute:\n",
    "  echo: false\n",
    "description: \"This post explores ChatGPT’s ability to solve crossword puzzles by analyzing its linguistic reasoning, word association skills, and pattern recognition. We start with simple clues to establish a baseline, then introduce more complex puzzles to test AI’s ability to infer word meanings, recognize themes, and leverage contextual hints. Our findings reveal key strengths and limitations in ChatGPT’s approach to crossword-solving.\"\n",
    "  \n",
    "author: \"Ethan Roytman\"\n",
    "date: \"2/8/2024\"\n",
    "categories:\n",
    "  - LLMs\n",
    "  - prompting\n",
    "  - linguistics\n",
    "  - puzzles\n",
    "---"
   ]
  },
  {
   "cell_type": "code",
   "execution_count": 1,
   "id": "b1c4ba41-07f5-439e-bfa2-562663818e57",
   "metadata": {},
   "outputs": [],
   "source": [
    "from openai import OpenAI\n",
    "from dotenv import load_dotenv\n",
    "_ = load_dotenv()"
   ]
  },
  {
   "cell_type": "markdown",
   "id": "d6c596fc-ad12-4358-84fe-ffce080486a5",
   "metadata": {},
   "source": [
    "## Can ChatGPT Solve The Mini? A Step-by-Step Analysis\n",
    "\n",
    "To test ChatGPT’s ability to solve crossword puzzles, I gave it the New York Times mini crossword and analyzed how it approached the clues. The goal was to see how well ChatGPT could infer words based on definitions and whether it could adjust when errors were identified. I also wanted to test if Chatgpt could understand the interactions between different words in columns and rows that intersect.\n",
    "\n",
    "---\n",
    "\n",
    "### ChatGPT’s First Attempt\n",
    "\n",
    "Below is the crossword we are using for this test. It is Superbowl-themed (GO BIRDS) and over my past couple of years of doing the mini every day - I would say today is one of the easier ones. If I had to give it a Roytman-certified difficulty level it would be a 3/10.\n",
    "\n",
    "<img src=\"Blank_Crossword_Real.png\" width=\"50%\"/>\n",
    "\n",
    "ChatGPT initially provided the following answers:\n",
    "\n",
    "- **1A:** CAT ✅ (Correct)\n",
    "- **4A:** CHIEF ✅ (Correct)\n",
    "- **6A:** LAMAR ✅ (Correct)\n",
    "- **7A:** FOE ❌ (Incorrect)\n",
    "- **8A:** TDS ✅ (Correct)\n",
    "\n",
    "- **1D:** CHANT ✅ (Correct)\n",
    "- **2D:** THREW ✅ (Correct)\n",
    "- **3D:** CASTS ✅ (Correct)\n",
    "- **4D:** CLE ✅ (Correct)\n",
    "- **5D:** FRY ✅ (Correct)\n",
    "\n",
    "The issue was with **7 Across (Opposing side)**, where ChatGPT suggested **FOE**, which didn't fit correctly with **5 Down (Cook in the pan → FRY)**.\n"
   ]
  },
  {
   "cell_type": "markdown",
   "id": "27dbb545-7f77-423d-a387-9acc3f0b659c",
   "metadata": {},
   "source": [
    "---\n",
    "\n",
    "### Step 3: Adjusting the Answer\n",
    "After ChatGPT messed up I attempted to fix its mistake, giving it the following prompt: \"Take into account the fact that the interactions between the two words. For example, Foe cant be 7a cause the row is 5 letters and the other letters in that word dont match. Solve it in regards to that not just the clue hints.\"\n",
    "\n",
    "While Chat GPT did correctly replace **FOE** with a **5-letter word**, it still did not align correctly with the ending letter of **FRY**.\n",
    "\n",
    "Here’s ChatGPT’s incorrect revision:\n",
    "\n",
    "<img src=\"First Revision.png\" width=\"50%\"/>\n",
    "\n",
    "---\n",
    "\n",
    "### Step4: Final Correction\n",
    "Once I highlighted that the revised answer still didn't match, ChatGPT finally adjusted **7 Across** to **ENEMY**, which correctly fit the crossword constraints. I specifically pointed it out by prompting it with \"the L in rival does not match with the Y in fry\". Chat GPT's final **correct** response is below:\n",
    "\n",
    "<img src=\"Final Attempt.png\" width=\"50%\"/>\n",
    "\n",
    "It seems that if I point out a specific letter mismatch, chat GPT is finally able to solve it. However, it is important to note that this is Chat GPT's **third** attempt - meaning that through trial and error \"enemy\" may have been the only possible option remaining. \n",
    "\n",
    "\n"
   ]
  },
  {
   "cell_type": "markdown",
   "id": "10885f98-09d8-4d2f-8399-166a6f2cd974",
   "metadata": {},
   "source": [
    "---\n",
    "\n",
    "### Conclusion: Strengths and Weaknesses of ChatGPT in Crossword Solving\n",
    "1. **Strengths:**  \n",
    "   - ChatGPT correctly inferred most words based on the clues.  \n",
    "   - It recognized word associations effectively (e.g., \"Bengal or lion\" → \"CAT\").  \n",
    "   - It could adapt and revise answers based on feedback.\n",
    "\n",
    "2. **Weaknesses:**  \n",
    "   - ChatGPT initially failed to check if its answers aligned across the grid.  \n",
    "   - Even after a revision, it still made a mistake by choosing a word of incorrect length.  \n",
    "   - Human intervention was required to get to the final correct solution, which may have resulted from trial and error.\n",
    "\n",
    "Overall, ChatGPT demonstrated strong **linguistic reasoning** and **clue interpretation** but struggled with **spatial constraints**, showing that while AI can assist in solving crosswords, human verification is still necessary."
   ]
  }
 ],
 "metadata": {
  "kernelspec": {
   "display_name": "Python 3-12 (COMM4190)",
   "language": "python",
   "name": "python3-12_comm4190"
  },
  "language_info": {
   "codemirror_mode": {
    "name": "ipython",
    "version": 3
   },
   "file_extension": ".py",
   "mimetype": "text/x-python",
   "name": "python",
   "nbconvert_exporter": "python",
   "pygments_lexer": "ipython3",
   "version": "3.12.8"
  }
 },
 "nbformat": 4,
 "nbformat_minor": 5
}
