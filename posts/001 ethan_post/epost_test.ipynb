{
 "cells": [
  {
   "cell_type": "raw",
   "id": "8a4f7588-fa1f-4283-88fa-88d3fb74edf5",
   "metadata": {},
   "source": [
    "---\n",
    "title: \"A test post\"\n",
    "description: \"An example post from a Jupyter notebook\"\n",
    "author: \"An LLM User\"\n",
    "date: \"2/2/2024\"\n",
    "categories:\n",
    "  - LLMs\n",
    "  - prompting\n",
    "  - logic\n",
    "---"
   ]
  },
  {
   "cell_type": "markdown",
   "id": "ebcd3dd3-26b5-4425-935d-3c73b7678e8a",
   "metadata": {},
   "source": [
    "# Headline "
   ]
  }
 ],
 "metadata": {
  "kernelspec": {
   "display_name": "Python 3-12 (COMM4190)",
   "language": "python",
   "name": "python3-12_comm4190"
  },
  "language_info": {
   "codemirror_mode": {
    "name": "ipython",
    "version": 3
   },
   "file_extension": ".py",
   "mimetype": "text/x-python",
   "name": "python",
   "nbconvert_exporter": "python",
   "pygments_lexer": "ipython3",
   "version": "3.12.8"
  }
 },
 "nbformat": 4,
 "nbformat_minor": 5
}
