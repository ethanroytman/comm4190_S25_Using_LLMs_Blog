{
 "cells": [
  {
   "cell_type": "raw",
   "id": "1a100102-a6c7-4121-938f-fc8d10eaaa30",
   "metadata": {},
   "source": [
    "---\n",
    "title: \"LLMs and Emotional Recognition\"\n",
    "execute:\n",
    "  echo: false\n",
    "description: \"This post examines the ability of large language models to recognize emotional differences.\"\n",
    "  \n",
    "author: \"Ethan Roytman\"\n",
    "date: \"2/13/2025\"\n",
    "categories:\n",
    "  - LLMs\n",
    "  - Emotional Recognition\n",
    "  - AI reasoning\n",
    "---"
   ]
  },
  {
   "cell_type": "markdown",
   "id": "1b870547-35e3-4a9f-a2df-cd627e87396e",
   "metadata": {},
   "source": [
    " ## Introduction  \n",
    "This post will dive into different LLMs; most notably Deepseek, Chatgpt, and Anthropic/Claude - examining their abilities to recognize different human emotions. Each LLM will be given an image of a human person experiencing an emotion and be asked to describe what emotion said person is experiencing."
   ]
  },
  {
   "cell_type": "markdown",
   "id": "95c31c5a-ca56-47dc-a358-a99914680cbc",
   "metadata": {},
   "source": [
    "## Sad Woman\n",
    "\n",
    "We are going to start by giving each model a relatively easy image of a sad woman. We will then test if Chatgpt, Deepseek, and Claude can analyze the emotion with the following prompt: **what emotion is this woman experiencing.**\n",
    "\n",
    "For context the image of the woman is below:\n",
    "\n",
    "<img src=\"Sad Woman.png\" width=\"50%\"/>\n",
    "\n",
    "### **ChatGPT**\n",
    "\n",
    "ChatGPT's response is the following:\n",
    "\n",
    "\"The woman in the image appears to be experiencing **boredom, sadness, or contemplation**. Her facial expression, including a slightly downturned mouth, relaxed posture, and resting her head on her hand, suggests that she might be feeling uninterested, tired, or deep in thought. Let me know if you need a more detailed analysis!\"\n",
    "\n",
    "I was honestly pleasantly surprised with this result. Not only did ChatGPT correctly address that the woman is sad, but it was also able to contextualize potential other emotions the woman is experiencing. **ChatGPT passes the first test.**\n",
    "\n",
    "### **Deepseek**\n",
    "\n",
    "Deepseek's response is the following:\n",
    "\n",
    "\"Based on your description of the woman in the image, it is difficult to definitively determine her exact emotion without more specific details or context. However, considering common emotions associated with women, sadness stands out as a strong possibility. Sadness can often be expressed through open arms, thoughtful gestures, or a deep contentment, depending on the situation.\n",
    "\n",
    "If she appears to be feeling sad about something, such as her own experiences, relationships, or personal struggles, sadness could be a fitting emotion. However, without additional information, it's hard to say for certain.\"\n",
    "\n",
    "While Deepseek was unsure about the emotion at first, it did correctly identify the emotion as sadness. However, there were some things in the response that threw me off. Specifically, its original line of reasoning was \"considering common emotions associated with women, sadness stands out as a strong possibility.\" I found this a bit weird since a) I never told it to relate back to common traits associated with women and b) sadness (to my knowledge at least) is not a trait disproportionately associated with women to an extent that would justify guessing the women in the image was experiencing sadness. Either way Deepseek did get the emotion right, so they **pass the first test**.\n",
    "\n",
    "\n",
    "### **Claude**\n",
    "\n",
    "Claude's response is the following:\n",
    "\n",
    "\"In this image, the person appears to be experiencing boredom or contemplation. Their body language - resting their head on their hand while sitting - is a classic pose that suggests they're feeling unengaged or lost in thought. They're wearing a casual purple t-shirt and sitting in what looks like a home environment with bookshelves visible in the background.\"\n",
    "\n",
    "Claude was actually the first LLM to not comment on the woman's sadness in the image. It is fair to note that boredom and contemplation are reasonable responses to the image as the woman is resting her head on her hand and staring off into the distance. However, if Claude analyzed her facial expressions, like the other models, then it might have been able to note her sadness. **Claude partially passes**."
   ]
  },
  {
   "cell_type": "markdown",
   "id": "921d1070-13a3-4a2c-b2b8-05bcc8e07823",
   "metadata": {},
   "source": [
    "## Anxious Man \n",
    "\n",
    "Now we are going to pivot to a relatively more complex emotion: anxiety. Similar to our first test, I will provide each LLM with the following image:\n",
    "\n",
    "<img src=\"Anxious Man.png\" width=\"50%\"/>\n",
    "\n",
    "### **ChatGPT**\n",
    "\n",
    "ChatGPT's response is the following:\n",
    "\n",
    "\"The man in the image appears to be experiencing stress, worry, or deep contemplation. His facial expression, with furrowed brows and a slightly distant gaze, along with his posture—leaning forward with his hands clasped near his face—suggests that he may be feeling anxious, troubled, or lost in thought. His body language indicates he could be dealing with a difficult situation or processing something emotionally intense. Let me know if you need a more detailed analysis!\"\n",
    "\n",
    "**ChatGPT yet again passed with flying colors.** It perfectly breaks down the man's body language/facial interactions to conclude that the man is feeling anxious. Honestly, not much else to talk about here -- ChatGPT seems to be the best model at recognizing emotions.\n",
    "\n",
    "### **Deepseek**\n",
    "\n",
    "Deepseek's response is the following:\n",
    "\n",
    "\"The emotion experienced by the man depicted in the image can be inferred through analysis of his actions, body language, and facial expressions. Here's a structured summary:\n",
    "\n",
    "Happiness: Indicates open arms, cheerful eyes, and relaxed demeanor.\n",
    "Joyful Expression: Shows contentment, peaceful expression, or content with others' success.\n",
    "Calmness: A wide mouth suggests ease, suggesting a neutral or positive emotion.\n",
    "Sadness: Signs include deep sighs, heavy heart, slow, deep frown, and perhaps tears.\n",
    "Anger: Sharp teeth with expressive mouths might indicate frustration.\n",
    "Frustration: Telling sounds or tight focus could signify this emotion.\n",
    "Confusion: Unclear expressions, unsure approach, or nervous state may suggest this.\n",
    "Tension: Rainy day setting or awkward dressing might hint at nervousness.\n",
    "Angerous Expression: Sharp teeth and expressive mouths could indicate frustration.\n",
    "Desperation: Slow movements with hands trembling might show deep sadness.\n",
    "After considering typical emotional indicators, the most likely emotion is happiness, as shown by a peaceful demeanor and content expression.\"\n",
    "\n",
    "Deepseek delivered what had to have been the most incorrect answer. It went through basically every single emotion possible and concluded happiness. Happiness is probably the least justifiable emotion out fo the list for the man's facial expression. This may imply that Deepseek can only recognize basic emotions like sadness and happiness, but is bad at recognizing more complex emotions like anxiety. **Deepseek failed this test.**\n",
    "\n",
    "### **Claude**\n",
    "\n",
    "Claude's response is the following:\n",
    "\n",
    "\"The person in this image appears to be experiencing distress, worry, or anxiety. Their body language - hands clasped over their mouth, intense focused expression, and hunched posture - suggests they are deep in concerned thought or potentially dealing with a troubling situation. They're wearing a casual grey hoodie and sitting on what looks like a couch in a home setting with some plants visible in the background.\"\n",
    "\n",
    "**Claude passed the test again.** However, it is interesting that Claude continuously described the background/outfit of the people it analyzed.\n"
   ]
  },
  {
   "cell_type": "markdown",
   "id": "4782df30-0176-4185-aa50-dbebdae3ed81",
   "metadata": {},
   "source": [
    "## Conclusion  \n",
    "\n",
    "After testing each LLM on two different emotions, the results are pretty clear. **ChatGPT is the most reliable at recognizing emotions**—it consistently identified the correct emotions and gave solid reasoning based on body language and facial expressions. **Claude did a decent job**, getting one answer partially wrong but still managing to analyze body language fairly well. However, it had a weird tendency to describe background details, which didn’t really add much to its emotional analysis. **Deepseek, on the other hand, struggled the most**. While it got sadness right in the first test, its reasoning was questionable, and its response to the anxious man image was way off, somehow concluding he was happy.  \n",
    "\n",
    "Overall, this experiment shows that **not all LLMs are equally good at recognizing emotions**. ChatGPT handled it best, while Claude was hit-or-miss, and Deepseek had a tough time with more complex emotions. It’ll be interesting to see how these models improve over time and whether they can develop a better understanding of human emotions beyond just the most basic ones."
   ]
  }
 ],
 "metadata": {
  "kernelspec": {
   "display_name": "Python 3 (ipykernel)",
   "language": "python",
   "name": "python3"
  },
  "language_info": {
   "codemirror_mode": {
    "name": "ipython",
    "version": 3
   },
   "file_extension": ".py",
   "mimetype": "text/x-python",
   "name": "python",
   "nbconvert_exporter": "python",
   "pygments_lexer": "ipython3",
   "version": "3.10.12"
  }
 },
 "nbformat": 4,
 "nbformat_minor": 5
}
