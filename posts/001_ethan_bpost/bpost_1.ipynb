{
 "cells": [
  {
   "cell_type": "raw",
   "id": "8f2cde27-ab2a-416f-9495-4fbcbcd372cb",
   "metadata": {},
   "source": [
    "---\n",
    "title: \"The Scrabble Situation\"\n",
    "execute:\n",
    "    echo: false\n",
    "description: \"This post explores ChatGPT’s ability to solve Scrabble boards by analyzing its spatial reasoning, word-forming logic, and strategy execution. We start with a simple board to establish a baseline, then increase complexity to test AI’s ability to optimize moves, recognize constraints, and use premium tiles effectively. Our findings reveal key strengths and limitations in ChatGPT’s approach to word games.\"\n",
    "\n",
    "author: \"Ethan Roytman\"\n",
    "date: \"2/5/2024\"\n",
    "categories:\n",
    "  - LLMs\n",
    "  - prompting\n",
    "  - logic\n",
    "---"
   ]
  },
  {
   "cell_type": "code",
   "execution_count": null,
   "id": "12249248-3a79-4a58-b5e1-04c8a291063c",
   "metadata": {},
   "outputs": [],
   "source": [
    "from openai import OpenAI\n",
    "from dotenv import load_dotenv\n",
    "_ = load_dotenv()"
   ]
  },
  {
   "cell_type": "markdown",
   "id": "efa29f83-2574-4f7f-bc2e-8eb20ec0ac2e",
   "metadata": {},
   "source": [
    "<!-- Load the EB Garamond font from Google Fonts -->\n",
    "<link href=\"https://fonts.googleapis.com/css2?family=EB+Garamond&display=swap\" rel=\"stylesheet\">\n",
    "\n",
    "<!-- Apply EB Garamond to the entire document -->\n",
    "<style>\n",
    "    body {\n",
    "        font-family: 'EB Garamond', serif;\n",
    "    }\n",
    "</style>"
   ]
  },
  {
   "cell_type": "markdown",
   "id": "54d4f119-a348-4853-9bb6-1e23d66431ac",
   "metadata": {},
   "source": [
    "### Scrabble Board Analysis: Testing ChatGPT’s Spatial Awareness and Letter Processing\n",
    "\n",
    "The goal of this post is to test ChatGPT’s ability to solve Scrabble boards by analyzing the spatial layout of letters and available moves. We aim to assess how well ChatGPT can **interpret images**, recognize patterns, and generate **optimal Scrabble moves** based on board state.\n",
    "\n",
    "To begin, we are starting with a **relatively easy board** where an optimal move is clearly available. This will allow us to gauge how well ChatGPT can recognize letter placements and suggest a high-scoring word. \n",
    "\n",
    "Once we establish a baseline, we will **pivot to a more complex board**, increasing the difficulty to further evaluate ChatGPT’s **spatial reasoning** and **text recognition capabilities** in Scrabble.\n",
    "\n",
    "By conducting this experiment, we hope to understand ChatGPT’s strengths and limitations in **processing letter-based games** and **interpreting board layouts from images**.\n",
    "\n",
    "---\n",
    "\n",
    "### Current Scrabble Board:\n",
    "\n",
    "<img src=\"Scrabble_1.png\" width=\"50%\"/>\n",
    "\n",
    "ChatGPT will analyze the board and suggest the **best possible move** using the given letter tiles.\n"
   ]
  },
  {
   "cell_type": "code",
   "execution_count": 14,
   "id": "aa6b4eea-3e3e-4c0f-8626-fce91e7a54e9",
   "metadata": {},
   "outputs": [],
   "source": [
    "client = OpenAI()"
   ]
  },
  {
   "cell_type": "code",
   "execution_count": 16,
   "id": "0187e04a-1127-4004-8621-3657c0cabb06",
   "metadata": {},
   "outputs": [],
   "source": [
    "from IPython.display import display\n",
    "from PIL import Image\n",
    "\n",
    "# Define image path\n",
    "image_path = \"Scrabble_1.png\"\n",
    "\n",
    "# Open and display the image\n",
    "img = Image.open(image_path)\n"
   ]
  },
  {
   "cell_type": "code",
   "execution_count": 18,
   "id": "4be6db05-08df-4864-9ae2-e0b9ea9d9cd7",
   "metadata": {},
   "outputs": [
    {
     "name": "stdout",
     "output_type": "stream",
     "text": [
      "I'm sorry for any confusion, but as a text-based AI, I can't view images or screenshots. However, I can help you determine the best possible move if you provide details about the current state of the Scrabble board. Please describe the board position, including any existing words, premium squares, and your current letter rack. With that information, I'll be able to help you find the best move!\n"
     ]
    }
   ],
   "source": [
    "# Define the model and system role\n",
    "model = \"gpt-4o-2024-08-06\"\n",
    "system_role = \"You are a Scrabble expert. Your task is to analyze the Scrabble board and suggest the best possible move.\"\n",
    "\n",
    "# Define the initial prompt\n",
    "initial_prompt = f\"\"\"\n",
    "Analyze the Scrabble board in the uploaded screenshot and determine the best move.\n",
    "Make sure to provide:\n",
    "a) What letters to place.\n",
    "b) Where to place them on the board.\n",
    "\n",
    "The image for analysis is provided below.\n",
    "\"\"\"\n",
    "\n",
    "# Define the image path from the uploaded file\n",
    "image_path = \"/mnt/data/Scrabble_1.png\"\n",
    "\n",
    "# Construct the messages payload\n",
    "messages = [\n",
    "    {\"role\": \"system\", \"content\": system_role},\n",
    "    {\n",
    "        \"role\": \"user\",\n",
    "        \"content\": initial_prompt,\n",
    "        \"image\": image_path  # Referencing the uploaded Scrabble board image\n",
    "    }\n",
    "]\n",
    "\n",
    "# Initialize OpenAI client\n",
    "client = OpenAI()\n",
    "\n",
    "# Send request to ChatGPT\n",
    "completion = client.chat.completions.create(\n",
    "    model=model,       # Model to use\n",
    "    messages=messages, # Prompt with image reference\n",
    "    n=3,               # Number of responses to generate\n",
    "    temperature=0.7    # Temperature setting\n",
    ")\n",
    "\n",
    "# Extract and print response\n",
    "response = completion.choices[0].message.content\n",
    "print(response)\n"
   ]
  },
  {
   "cell_type": "markdown",
   "id": "03ca22fe-d3c6-41b5-91ae-df48df12f829",
   "metadata": {},
   "source": [
    "### Scrabble Board Analysis: ChatGPT and Image Processing Limitations\n",
    "\n",
    "During our initial test, we attempted to use a **robocall approach** to send an image of a Scrabble board to ChatGPT for analysis. However, we  realized that the model does not support **image-based processing via API calls**. This means that ChatGPT, when accessed through the OpenAI API, cannot **directly interpret images** unless we extract text manually.\n",
    "\n",
    "---\n",
    "\n",
    "### **Workaround: Directly Uploading to ChatGPT**\n",
    "Since the **robocall method was unsuccessful**, we pivoted and uploaded the Scrabble board **directly into ChatGPT's interface**. This allowed the model to **process the image and generate an optimal move**.\n",
    "\n",
    "Here is the **response generated by ChatGPT** after analyzing the board:\n",
    "\n",
    "<img src=\"Chatgpt_analyis.png\" width=\"50%\"/>\n",
    "\n",
    "As seen above, ChatGPT correctly identified the best possible move:  \n",
    "### **Move: Place \"LI\" at (Column P, Row 10)**\n",
    "\n",
    "- **Word Formed:** \"LI\"  \n",
    "- **Placement:** The \"L\" at (P, 10) and \"I\" at (P, 11).  \n",
    "- **Points:** This move extends an existing word while maximizing efficiency.  \n",
    "\n",
    "---\n",
    "\n",
    "### **A Reminder: This is an Easy Case**\n",
    "While this response is **correct**, it's important to note that this was a **relatively simple board** with **only two tiles available**. Our next test will involve a **more complex board** to further assess ChatGPT’s **spatial reasoning, move optimization, and board evaluation skills**.\n"
   ]
  },
  {
   "cell_type": "markdown",
   "id": "fd15bd25-0ca7-4e24-a2a9-5d089ee20024",
   "metadata": {},
   "source": [
    "### Scrabble Board Analysis: Testing ChatGPT’s Spatial Awareness (Harder Board)\n",
    "\n",
    "In our first test, we evaluated ChatGPT’s ability to **analyze a Scrabble board and generate the best possible move**. The first board was relatively simple, and ChatGPT provided a **correct response**. \n",
    "\n",
    "Now, we are increasing the difficulty by presenting a **more complex Scrabble board** to assess ChatGPT’s **spatial awareness and board evaluation capabilities**. The scrabble board is shown below.\n",
    "\n",
    "<img src=\"Scrabble_2.png\" width=\"50%\"/>\n",
    "\n",
    "---\n",
    "\n",
    "### **ChatGPT's Suggested Move (Incorrect)**\n",
    "\n",
    "After analyzing the new Scrabble board, ChatGPT generated the following response:\n",
    "\n",
    "<img src=\"Chatgpt_analysis_2.png\" width=\"50%\"/>\n",
    "\n",
    "At first glance, ChatGPT’s move appears **valid**, as it successfully connects letters to form a word. However, upon closer inspection, **ChatGPT made a fundamental spatial mistake**:\n",
    "\n",
    "- **Mistake:** ChatGPT assumed it could place a word **downwards** from \"HUMVEE\".  \n",
    "- **Reality:** \"HUMVEE\" is at the **bottom row**, meaning no tiles can be placed below it.  \n",
    "\n",
    "This error highlights a **major limitation** in ChatGPT’s ability to **fully process board constraints**. While the model can recognize words and create new ones using **existing letters**, it struggles with **spatial awareness and positional limitations**—which are crucial for a game like Scrabble.\n",
    "\n",
    "---\n",
    "\n",
    "### **Key Takeaways**\n",
    "1. **ChatGPT understands letter placements** but struggles with **physical constraints on a board**.  \n",
    "2. **It can identify valid words using existing letters** but may attempt moves that are **spatially impossible**.  \n",
    "3. **Future improvements in AI’s spatial reasoning** could allow for better board-game problem-solving.  "
   ]
  },
  {
   "cell_type": "markdown",
   "id": "a66b4870-9fd7-4078-ac62-8300514c73df",
   "metadata": {},
   "source": [
    "### **Conclusion: Evaluating ChatGPT’s Scrabble Performance**\n",
    "\n",
    "Through this experiment, we tested ChatGPT’s ability to **analyze Scrabble boards, generate optimal moves, and demonstrate spatial awareness**. By presenting both an **easy board** and a **more complex board**, we identified several key strengths and limitations in how ChatGPT processes Scrabble gameplay.\n",
    "\n",
    "---\n",
    "\n",
    "### **Findings: Strengths and Weaknesses**\n",
    "✅ **Strengths:**\n",
    "1. **Recognizes Existing Words on the Board:** ChatGPT successfully identified letters on the board and could form new words using them.  \n",
    "2. **Generates Valid Words Using Available Tiles:** It was able to construct playable words based on the given tile set.  \n",
    "3. **Acknowledges Special Tiles (Triple/Double Score Areas):** The model **noted the presence** of premium scoring tiles (Triple Word Score, Double Letter Score) but did not optimize for them.  \n",
    "\n",
    "❌ **Weaknesses:**\n",
    "1. **Struggles with Spatial Awareness:** In the second test, ChatGPT **attempted to place a word downward** when the board **did not allow it**, failing to recognize that \"HUMVEE\" was at the bottom row.  \n",
    "2. **Does Not Maximize Score Potential:** Although ChatGPT **recognized the presence** of premium tiles, it **did not strategically place words to take full advantage** of them. It defaulted to **simple word placement** rather than **high-scoring strategies**.  \n",
    "3. **Cannot Calculate Exact Point Values:** Unlike human Scrabble players who can calculate **score efficiency**, ChatGPT did not attempt to **maximize points per move** based on tile bonuses.  \n",
    "\n",
    "---\n",
    "\n",
    "### **Final Takeaway**\n",
    "ChatGPT has **a solid grasp of Scrabble fundamentals**, particularly in **word formation and board recognition**. However, it **lacks true strategic depth**, particularly in **leveraging high-scoring word placements and understanding board constraints**.\n",
    "\n",
    "While future AI improvements may address **spatial limitations and strategic play**, for now, **human intuition and Scrabble expertise still outperform AI in high-level gameplay**.\n"
   ]
  }
 ],
 "metadata": {
  "kernelspec": {
   "display_name": "Python 3-12 (COMM4190)",
   "language": "python",
   "name": "python3-12_comm4190"
  },
  "language_info": {
   "codemirror_mode": {
    "name": "ipython",
    "version": 3
   },
   "file_extension": ".py",
   "mimetype": "text/x-python",
   "name": "python",
   "nbconvert_exporter": "python",
   "pygments_lexer": "ipython3",
   "version": "3.12.8"
  }
 },
 "nbformat": 4,
 "nbformat_minor": 5
}
